{
 "cells": [
  {
   "cell_type": "markdown",
   "metadata": {},
   "source": [
    "# Prediksi Tingkat Curah Hujan di Kabupaten Deli Serdang Provinsi Sumatera Utara"
   ]
  },
  {
   "cell_type": "markdown",
   "metadata": {},
   "source": [
    "Data yang digunakan oleh kelompok 4 adalah data harian curah hujan Kabupaten Deli serdang sejak 1 Oktober 2021 sampai dengan 01 November 2021. Keterangan Variabel yang digunakan adalah sebagai berikut:\n",
    "\n",
    "- Tn      : Temperatur minimum\t (°C)\n",
    "- Tx      : Temperatur maksimum (°C)\n",
    "- Tavg    : Temperatur rata-rata (°C)\n",
    "- RH_avg  : Kelembapan rata-rata (%)\n",
    "- RR      : Curah hujan (mm)\n",
    "- ss      : Lamanya penyinaran matahari (jam)\n",
    "- ff_x    : Kecepatan angin maksimum (m/s)\n",
    "- ddd_x   : Arah angin saat kecepatan maksimum (°)\n",
    "- ff_avg  : Kecepatan angin rata-rata (m/s)\n",
    "- ddd_car : Arah angin terbanyak (°)\n"
   ]
  },
  {
   "cell_type": "code",
   "execution_count": 1,
   "metadata": {},
   "outputs": [],
   "source": [
    "import pandas as pd\n",
    "import numpy as np\n",
    "import seaborn as sns\n",
    "import matplotlib.pyplot as plt\n",
    "import warnings\n",
    "warnings.filterwarnings(\"ignore\")"
   ]
  },
  {
   "cell_type": "markdown",
   "metadata": {},
   "source": [
    "# Persiapan Data"
   ]
  },
  {
   "cell_type": "code",
   "execution_count": 2,
   "metadata": {
    "scrolled": true
   },
   "outputs": [
    {
     "data": {
      "text/html": [
       "<div>\n",
       "<style scoped>\n",
       "    .dataframe tbody tr th:only-of-type {\n",
       "        vertical-align: middle;\n",
       "    }\n",
       "\n",
       "    .dataframe tbody tr th {\n",
       "        vertical-align: top;\n",
       "    }\n",
       "\n",
       "    .dataframe thead th {\n",
       "        text-align: right;\n",
       "    }\n",
       "</style>\n",
       "<table border=\"1\" class=\"dataframe\">\n",
       "  <thead>\n",
       "    <tr style=\"text-align: right;\">\n",
       "      <th></th>\n",
       "      <th>Tanggal</th>\n",
       "      <th>Tn</th>\n",
       "      <th>Tx</th>\n",
       "      <th>Tavg</th>\n",
       "      <th>RH_avg</th>\n",
       "      <th>RR</th>\n",
       "      <th>ss</th>\n",
       "      <th>ff_x</th>\n",
       "      <th>ddd_x</th>\n",
       "      <th>ff_avg</th>\n",
       "      <th>ddd_car</th>\n",
       "    </tr>\n",
       "  </thead>\n",
       "  <tbody>\n",
       "    <tr>\n",
       "      <th>0</th>\n",
       "      <td>01-10-2021</td>\n",
       "      <td>25.4</td>\n",
       "      <td>31.4</td>\n",
       "      <td>27.8</td>\n",
       "      <td>76</td>\n",
       "      <td>7.6</td>\n",
       "      <td>7.3</td>\n",
       "      <td>6</td>\n",
       "      <td>270</td>\n",
       "      <td>2</td>\n",
       "      <td>SW</td>\n",
       "    </tr>\n",
       "    <tr>\n",
       "      <th>1</th>\n",
       "      <td>02-10-2021</td>\n",
       "      <td>24.2</td>\n",
       "      <td>33.2</td>\n",
       "      <td>27.8</td>\n",
       "      <td>77</td>\n",
       "      <td>NaN</td>\n",
       "      <td>0.4</td>\n",
       "      <td>4</td>\n",
       "      <td>45</td>\n",
       "      <td>1</td>\n",
       "      <td>C</td>\n",
       "    </tr>\n",
       "    <tr>\n",
       "      <th>2</th>\n",
       "      <td>03-10-2021</td>\n",
       "      <td>25.6</td>\n",
       "      <td>33.2</td>\n",
       "      <td>28.5</td>\n",
       "      <td>82</td>\n",
       "      <td>NaN</td>\n",
       "      <td>4.4</td>\n",
       "      <td>5</td>\n",
       "      <td>45</td>\n",
       "      <td>2</td>\n",
       "      <td>NE</td>\n",
       "    </tr>\n",
       "    <tr>\n",
       "      <th>3</th>\n",
       "      <td>04-10-2021</td>\n",
       "      <td>23.8</td>\n",
       "      <td>33.6</td>\n",
       "      <td>27.6</td>\n",
       "      <td>78</td>\n",
       "      <td>NaN</td>\n",
       "      <td>9.2</td>\n",
       "      <td>6</td>\n",
       "      <td>45</td>\n",
       "      <td>2</td>\n",
       "      <td>NE</td>\n",
       "    </tr>\n",
       "    <tr>\n",
       "      <th>4</th>\n",
       "      <td>05-10-2021</td>\n",
       "      <td>25.0</td>\n",
       "      <td>31.2</td>\n",
       "      <td>27.4</td>\n",
       "      <td>87</td>\n",
       "      <td>NaN</td>\n",
       "      <td>8.6</td>\n",
       "      <td>4</td>\n",
       "      <td>45</td>\n",
       "      <td>2</td>\n",
       "      <td>W</td>\n",
       "    </tr>\n",
       "    <tr>\n",
       "      <th>5</th>\n",
       "      <td>06-10-2021</td>\n",
       "      <td>25.0</td>\n",
       "      <td>31.6</td>\n",
       "      <td>27.5</td>\n",
       "      <td>79</td>\n",
       "      <td>NaN</td>\n",
       "      <td>0.7</td>\n",
       "      <td>5</td>\n",
       "      <td>270</td>\n",
       "      <td>2</td>\n",
       "      <td>C</td>\n",
       "    </tr>\n",
       "    <tr>\n",
       "      <th>6</th>\n",
       "      <td>07-10-2021</td>\n",
       "      <td>25.0</td>\n",
       "      <td>34.0</td>\n",
       "      <td>27.6</td>\n",
       "      <td>82</td>\n",
       "      <td>NaN</td>\n",
       "      <td>1.0</td>\n",
       "      <td>4</td>\n",
       "      <td>135</td>\n",
       "      <td>2</td>\n",
       "      <td>C</td>\n",
       "    </tr>\n",
       "    <tr>\n",
       "      <th>7</th>\n",
       "      <td>08-10-2021</td>\n",
       "      <td>24.6</td>\n",
       "      <td>35.2</td>\n",
       "      <td>28.3</td>\n",
       "      <td>82</td>\n",
       "      <td>8.2</td>\n",
       "      <td>5.0</td>\n",
       "      <td>4</td>\n",
       "      <td>45</td>\n",
       "      <td>2</td>\n",
       "      <td>NE</td>\n",
       "    </tr>\n",
       "    <tr>\n",
       "      <th>8</th>\n",
       "      <td>09-10-2021</td>\n",
       "      <td>24.8</td>\n",
       "      <td>32.6</td>\n",
       "      <td>28.0</td>\n",
       "      <td>84</td>\n",
       "      <td>NaN</td>\n",
       "      <td>5.0</td>\n",
       "      <td>4</td>\n",
       "      <td>45</td>\n",
       "      <td>2</td>\n",
       "      <td>NE</td>\n",
       "    </tr>\n",
       "    <tr>\n",
       "      <th>9</th>\n",
       "      <td>10-10-2021</td>\n",
       "      <td>25.4</td>\n",
       "      <td>32.8</td>\n",
       "      <td>28.3</td>\n",
       "      <td>85</td>\n",
       "      <td>4.2</td>\n",
       "      <td>8.5</td>\n",
       "      <td>4</td>\n",
       "      <td>45</td>\n",
       "      <td>2</td>\n",
       "      <td>NE</td>\n",
       "    </tr>\n",
       "  </tbody>\n",
       "</table>\n",
       "</div>"
      ],
      "text/plain": [
       "      Tanggal    Tn    Tx  Tavg  RH_avg   RR   ss  ff_x  ddd_x  ff_avg ddd_car\n",
       "0  01-10-2021  25.4  31.4  27.8      76  7.6  7.3     6    270       2      SW\n",
       "1  02-10-2021  24.2  33.2  27.8      77  NaN  0.4     4     45       1      C \n",
       "2  03-10-2021  25.6  33.2  28.5      82  NaN  4.4     5     45       2      NE\n",
       "3  04-10-2021  23.8  33.6  27.6      78  NaN  9.2     6     45       2      NE\n",
       "4  05-10-2021  25.0  31.2  27.4      87  NaN  8.6     4     45       2      W \n",
       "5  06-10-2021  25.0  31.6  27.5      79  NaN  0.7     5    270       2      C \n",
       "6  07-10-2021  25.0  34.0  27.6      82  NaN  1.0     4    135       2      C \n",
       "7  08-10-2021  24.6  35.2  28.3      82  8.2  5.0     4     45       2      NE\n",
       "8  09-10-2021  24.8  32.6  28.0      84  NaN  5.0     4     45       2      NE\n",
       "9  10-10-2021  25.4  32.8  28.3      85  4.2  8.5     4     45       2      NE"
      ]
     },
     "execution_count": 2,
     "metadata": {},
     "output_type": "execute_result"
    }
   ],
   "source": [
    "df = pd.read_csv(\"klp 4.csv\")\n",
    "df.head(10)"
   ]
  },
  {
   "cell_type": "code",
   "execution_count": 3,
   "metadata": {},
   "outputs": [
    {
     "data": {
      "text/plain": [
       "(32, 11)"
      ]
     },
     "execution_count": 3,
     "metadata": {},
     "output_type": "execute_result"
    }
   ],
   "source": [
    "df.shape"
   ]
  },
  {
   "cell_type": "code",
   "execution_count": 4,
   "metadata": {
    "scrolled": true
   },
   "outputs": [
    {
     "data": {
      "text/html": [
       "<div>\n",
       "<style scoped>\n",
       "    .dataframe tbody tr th:only-of-type {\n",
       "        vertical-align: middle;\n",
       "    }\n",
       "\n",
       "    .dataframe tbody tr th {\n",
       "        vertical-align: top;\n",
       "    }\n",
       "\n",
       "    .dataframe thead th {\n",
       "        text-align: right;\n",
       "    }\n",
       "</style>\n",
       "<table border=\"1\" class=\"dataframe\">\n",
       "  <thead>\n",
       "    <tr style=\"text-align: right;\">\n",
       "      <th></th>\n",
       "      <th>Tn</th>\n",
       "      <th>Tx</th>\n",
       "      <th>Tavg</th>\n",
       "      <th>RH_avg</th>\n",
       "      <th>RR</th>\n",
       "      <th>ss</th>\n",
       "      <th>ff_x</th>\n",
       "      <th>ddd_x</th>\n",
       "      <th>ff_avg</th>\n",
       "    </tr>\n",
       "  </thead>\n",
       "  <tbody>\n",
       "    <tr>\n",
       "      <th>count</th>\n",
       "      <td>30.000000</td>\n",
       "      <td>30.000000</td>\n",
       "      <td>32.000000</td>\n",
       "      <td>32.000000</td>\n",
       "      <td>17.000000</td>\n",
       "      <td>32.000000</td>\n",
       "      <td>32.000000</td>\n",
       "      <td>32.000000</td>\n",
       "      <td>32.000000</td>\n",
       "    </tr>\n",
       "    <tr>\n",
       "      <th>mean</th>\n",
       "      <td>24.566667</td>\n",
       "      <td>32.366667</td>\n",
       "      <td>27.512500</td>\n",
       "      <td>82.718750</td>\n",
       "      <td>1587.100000</td>\n",
       "      <td>5.440625</td>\n",
       "      <td>4.406250</td>\n",
       "      <td>93.906250</td>\n",
       "      <td>1.843750</td>\n",
       "    </tr>\n",
       "    <tr>\n",
       "      <th>std</th>\n",
       "      <td>0.670735</td>\n",
       "      <td>1.516878</td>\n",
       "      <td>0.792607</td>\n",
       "      <td>3.828875</td>\n",
       "      <td>3483.789128</td>\n",
       "      <td>3.184525</td>\n",
       "      <td>1.103057</td>\n",
       "      <td>91.093132</td>\n",
       "      <td>0.627816</td>\n",
       "    </tr>\n",
       "    <tr>\n",
       "      <th>min</th>\n",
       "      <td>23.200000</td>\n",
       "      <td>30.000000</td>\n",
       "      <td>25.800000</td>\n",
       "      <td>74.000000</td>\n",
       "      <td>0.000000</td>\n",
       "      <td>0.000000</td>\n",
       "      <td>3.000000</td>\n",
       "      <td>45.000000</td>\n",
       "      <td>0.000000</td>\n",
       "    </tr>\n",
       "    <tr>\n",
       "      <th>25%</th>\n",
       "      <td>24.000000</td>\n",
       "      <td>31.200000</td>\n",
       "      <td>27.000000</td>\n",
       "      <td>80.750000</td>\n",
       "      <td>0.700000</td>\n",
       "      <td>2.275000</td>\n",
       "      <td>4.000000</td>\n",
       "      <td>45.000000</td>\n",
       "      <td>2.000000</td>\n",
       "    </tr>\n",
       "    <tr>\n",
       "      <th>50%</th>\n",
       "      <td>24.700000</td>\n",
       "      <td>32.100000</td>\n",
       "      <td>27.600000</td>\n",
       "      <td>83.000000</td>\n",
       "      <td>8.200000</td>\n",
       "      <td>6.000000</td>\n",
       "      <td>4.000000</td>\n",
       "      <td>45.000000</td>\n",
       "      <td>2.000000</td>\n",
       "    </tr>\n",
       "    <tr>\n",
       "      <th>75%</th>\n",
       "      <td>25.000000</td>\n",
       "      <td>33.500000</td>\n",
       "      <td>28.200000</td>\n",
       "      <td>85.250000</td>\n",
       "      <td>86.900000</td>\n",
       "      <td>8.300000</td>\n",
       "      <td>5.000000</td>\n",
       "      <td>101.250000</td>\n",
       "      <td>2.000000</td>\n",
       "    </tr>\n",
       "    <tr>\n",
       "      <th>max</th>\n",
       "      <td>25.600000</td>\n",
       "      <td>35.200000</td>\n",
       "      <td>29.000000</td>\n",
       "      <td>89.000000</td>\n",
       "      <td>8888.000000</td>\n",
       "      <td>9.700000</td>\n",
       "      <td>7.000000</td>\n",
       "      <td>360.000000</td>\n",
       "      <td>3.000000</td>\n",
       "    </tr>\n",
       "  </tbody>\n",
       "</table>\n",
       "</div>"
      ],
      "text/plain": [
       "              Tn         Tx       Tavg     RH_avg           RR         ss  \\\n",
       "count  30.000000  30.000000  32.000000  32.000000    17.000000  32.000000   \n",
       "mean   24.566667  32.366667  27.512500  82.718750  1587.100000   5.440625   \n",
       "std     0.670735   1.516878   0.792607   3.828875  3483.789128   3.184525   \n",
       "min    23.200000  30.000000  25.800000  74.000000     0.000000   0.000000   \n",
       "25%    24.000000  31.200000  27.000000  80.750000     0.700000   2.275000   \n",
       "50%    24.700000  32.100000  27.600000  83.000000     8.200000   6.000000   \n",
       "75%    25.000000  33.500000  28.200000  85.250000    86.900000   8.300000   \n",
       "max    25.600000  35.200000  29.000000  89.000000  8888.000000   9.700000   \n",
       "\n",
       "            ff_x       ddd_x     ff_avg  \n",
       "count  32.000000   32.000000  32.000000  \n",
       "mean    4.406250   93.906250   1.843750  \n",
       "std     1.103057   91.093132   0.627816  \n",
       "min     3.000000   45.000000   0.000000  \n",
       "25%     4.000000   45.000000   2.000000  \n",
       "50%     4.000000   45.000000   2.000000  \n",
       "75%     5.000000  101.250000   2.000000  \n",
       "max     7.000000  360.000000   3.000000  "
      ]
     },
     "execution_count": 4,
     "metadata": {},
     "output_type": "execute_result"
    }
   ],
   "source": [
    "df.describe()"
   ]
  },
  {
   "cell_type": "code",
   "execution_count": 5,
   "metadata": {},
   "outputs": [],
   "source": [
    "to_drop = ['RR','ddd_x']"
   ]
  },
  {
   "cell_type": "code",
   "execution_count": 6,
   "metadata": {},
   "outputs": [],
   "source": [
    "df.drop(to_drop, inplace=True, axis=1)"
   ]
  },
  {
   "cell_type": "code",
   "execution_count": 7,
   "metadata": {},
   "outputs": [
    {
     "data": {
      "text/html": [
       "<div>\n",
       "<style scoped>\n",
       "    .dataframe tbody tr th:only-of-type {\n",
       "        vertical-align: middle;\n",
       "    }\n",
       "\n",
       "    .dataframe tbody tr th {\n",
       "        vertical-align: top;\n",
       "    }\n",
       "\n",
       "    .dataframe thead th {\n",
       "        text-align: right;\n",
       "    }\n",
       "</style>\n",
       "<table border=\"1\" class=\"dataframe\">\n",
       "  <thead>\n",
       "    <tr style=\"text-align: right;\">\n",
       "      <th></th>\n",
       "      <th>Tanggal</th>\n",
       "      <th>Tn</th>\n",
       "      <th>Tx</th>\n",
       "      <th>Tavg</th>\n",
       "      <th>RH_avg</th>\n",
       "      <th>ss</th>\n",
       "      <th>ff_x</th>\n",
       "      <th>ff_avg</th>\n",
       "      <th>ddd_car</th>\n",
       "    </tr>\n",
       "  </thead>\n",
       "  <tbody>\n",
       "    <tr>\n",
       "      <th>0</th>\n",
       "      <td>01-10-2021</td>\n",
       "      <td>25.4</td>\n",
       "      <td>31.4</td>\n",
       "      <td>27.8</td>\n",
       "      <td>76</td>\n",
       "      <td>7.3</td>\n",
       "      <td>6</td>\n",
       "      <td>2</td>\n",
       "      <td>SW</td>\n",
       "    </tr>\n",
       "    <tr>\n",
       "      <th>1</th>\n",
       "      <td>02-10-2021</td>\n",
       "      <td>24.2</td>\n",
       "      <td>33.2</td>\n",
       "      <td>27.8</td>\n",
       "      <td>77</td>\n",
       "      <td>0.4</td>\n",
       "      <td>4</td>\n",
       "      <td>1</td>\n",
       "      <td>C</td>\n",
       "    </tr>\n",
       "    <tr>\n",
       "      <th>2</th>\n",
       "      <td>03-10-2021</td>\n",
       "      <td>25.6</td>\n",
       "      <td>33.2</td>\n",
       "      <td>28.5</td>\n",
       "      <td>82</td>\n",
       "      <td>4.4</td>\n",
       "      <td>5</td>\n",
       "      <td>2</td>\n",
       "      <td>NE</td>\n",
       "    </tr>\n",
       "    <tr>\n",
       "      <th>3</th>\n",
       "      <td>04-10-2021</td>\n",
       "      <td>23.8</td>\n",
       "      <td>33.6</td>\n",
       "      <td>27.6</td>\n",
       "      <td>78</td>\n",
       "      <td>9.2</td>\n",
       "      <td>6</td>\n",
       "      <td>2</td>\n",
       "      <td>NE</td>\n",
       "    </tr>\n",
       "    <tr>\n",
       "      <th>4</th>\n",
       "      <td>05-10-2021</td>\n",
       "      <td>25.0</td>\n",
       "      <td>31.2</td>\n",
       "      <td>27.4</td>\n",
       "      <td>87</td>\n",
       "      <td>8.6</td>\n",
       "      <td>4</td>\n",
       "      <td>2</td>\n",
       "      <td>W</td>\n",
       "    </tr>\n",
       "    <tr>\n",
       "      <th>5</th>\n",
       "      <td>06-10-2021</td>\n",
       "      <td>25.0</td>\n",
       "      <td>31.6</td>\n",
       "      <td>27.5</td>\n",
       "      <td>79</td>\n",
       "      <td>0.7</td>\n",
       "      <td>5</td>\n",
       "      <td>2</td>\n",
       "      <td>C</td>\n",
       "    </tr>\n",
       "    <tr>\n",
       "      <th>6</th>\n",
       "      <td>07-10-2021</td>\n",
       "      <td>25.0</td>\n",
       "      <td>34.0</td>\n",
       "      <td>27.6</td>\n",
       "      <td>82</td>\n",
       "      <td>1.0</td>\n",
       "      <td>4</td>\n",
       "      <td>2</td>\n",
       "      <td>C</td>\n",
       "    </tr>\n",
       "    <tr>\n",
       "      <th>7</th>\n",
       "      <td>08-10-2021</td>\n",
       "      <td>24.6</td>\n",
       "      <td>35.2</td>\n",
       "      <td>28.3</td>\n",
       "      <td>82</td>\n",
       "      <td>5.0</td>\n",
       "      <td>4</td>\n",
       "      <td>2</td>\n",
       "      <td>NE</td>\n",
       "    </tr>\n",
       "    <tr>\n",
       "      <th>8</th>\n",
       "      <td>09-10-2021</td>\n",
       "      <td>24.8</td>\n",
       "      <td>32.6</td>\n",
       "      <td>28.0</td>\n",
       "      <td>84</td>\n",
       "      <td>5.0</td>\n",
       "      <td>4</td>\n",
       "      <td>2</td>\n",
       "      <td>NE</td>\n",
       "    </tr>\n",
       "    <tr>\n",
       "      <th>9</th>\n",
       "      <td>10-10-2021</td>\n",
       "      <td>25.4</td>\n",
       "      <td>32.8</td>\n",
       "      <td>28.3</td>\n",
       "      <td>85</td>\n",
       "      <td>8.5</td>\n",
       "      <td>4</td>\n",
       "      <td>2</td>\n",
       "      <td>NE</td>\n",
       "    </tr>\n",
       "  </tbody>\n",
       "</table>\n",
       "</div>"
      ],
      "text/plain": [
       "      Tanggal    Tn    Tx  Tavg  RH_avg   ss  ff_x  ff_avg ddd_car\n",
       "0  01-10-2021  25.4  31.4  27.8      76  7.3     6       2      SW\n",
       "1  02-10-2021  24.2  33.2  27.8      77  0.4     4       1      C \n",
       "2  03-10-2021  25.6  33.2  28.5      82  4.4     5       2      NE\n",
       "3  04-10-2021  23.8  33.6  27.6      78  9.2     6       2      NE\n",
       "4  05-10-2021  25.0  31.2  27.4      87  8.6     4       2      W \n",
       "5  06-10-2021  25.0  31.6  27.5      79  0.7     5       2      C \n",
       "6  07-10-2021  25.0  34.0  27.6      82  1.0     4       2      C \n",
       "7  08-10-2021  24.6  35.2  28.3      82  5.0     4       2      NE\n",
       "8  09-10-2021  24.8  32.6  28.0      84  5.0     4       2      NE\n",
       "9  10-10-2021  25.4  32.8  28.3      85  8.5     4       2      NE"
      ]
     },
     "execution_count": 7,
     "metadata": {},
     "output_type": "execute_result"
    }
   ],
   "source": [
    "df.head(10)"
   ]
  },
  {
   "cell_type": "code",
   "execution_count": 8,
   "metadata": {
    "scrolled": true
   },
   "outputs": [
    {
     "data": {
      "text/plain": [
       "Tanggal    0\n",
       "Tn         2\n",
       "Tx         2\n",
       "Tavg       0\n",
       "RH_avg     0\n",
       "ss         0\n",
       "ff_x       0\n",
       "ff_avg     0\n",
       "ddd_car    0\n",
       "dtype: int64"
      ]
     },
     "execution_count": 8,
     "metadata": {},
     "output_type": "execute_result"
    }
   ],
   "source": [
    "df.isnull().sum()"
   ]
  },
  {
   "cell_type": "markdown",
   "metadata": {},
   "source": [
    "# Tugas Akhir 3: Cleansing dan Eksplorasi Data"
   ]
  },
  {
   "cell_type": "markdown",
   "metadata": {},
   "source": [
    "# Menghilangkan Missing Data"
   ]
  },
  {
   "cell_type": "code",
   "execution_count": 9,
   "metadata": {
    "scrolled": true
   },
   "outputs": [
    {
     "name": "stdout",
     "output_type": "stream",
     "text": [
      "Nilai NaN pada kolom Tn berjumlah : 2\n",
      "\n",
      "Nilai NaN pada kolom Tx berjumlah : 2\n"
     ]
    }
   ],
   "source": [
    "print('Nilai NaN pada kolom Tn berjumlah :', df.isnull().sum().Tn)\n",
    "print()\n",
    "print('Nilai NaN pada kolom Tx berjumlah :', df.isnull().sum().Tx)"
   ]
  },
  {
   "cell_type": "code",
   "execution_count": 10,
   "metadata": {},
   "outputs": [
    {
     "data": {
      "text/plain": [
       "(array([14, 17], dtype=int64),)"
      ]
     },
     "execution_count": 10,
     "metadata": {},
     "output_type": "execute_result"
    }
   ],
   "source": [
    "index_nan = np.where(df.isnull().Tn)\n",
    "index_nan = np.where(df.isnull().Tx)\n",
    "index_nan"
   ]
  },
  {
   "cell_type": "code",
   "execution_count": 11,
   "metadata": {},
   "outputs": [
    {
     "name": "stdout",
     "output_type": "stream",
     "text": [
      "Ukuran awal df: 32 baris, 9 kolom.\n",
      "Ukuran df setelah dibuang baris yang memiliki missing value: 29 baris, 9 kolom.\n"
     ]
    }
   ],
   "source": [
    "# Cetak ukuran awal dataframe\n",
    "print(\"Ukuran awal df: %d baris, %d kolom.\"%df.shape)\n",
    "\n",
    "# Drop baris NaN\n",
    "df = df.dropna()\n",
    "print(\"Ukuran df setelah dibuang baris yang memiliki missing value: %d baris, %d kolom.\"%df.shape)"
   ]
  },
  {
   "cell_type": "markdown",
   "metadata": {},
   "source": [
    "# Mendeteksi Outlier"
   ]
  },
  {
   "cell_type": "markdown",
   "metadata": {},
   "source": [
    "Kolom Tn"
   ]
  },
  {
   "cell_type": "code",
   "execution_count": 12,
   "metadata": {},
   "outputs": [
    {
     "data": {
      "image/png": "[encoded data removed]",
      "text/plain": [
       "<Figure size 720x360 with 1 Axes>"
      ]
     },
     "metadata": {
      "needs_background": "light"
     },
     "output_type": "display_data"
    }
   ],
   "source": [
    "plt.figure(figsize = (10, 5))\n",
    "sns.boxplot(df['Tn'])\n",
    "plt.annotate('Outlier', (df['Tn'].describe()['max'],0.1), xytext = (df['Tn'].describe()['max'],0.3),\n",
    "             arrowprops = dict(facecolor = 'blue'), fontsize = 13 )\n",
    "IQR = df['Tn'].describe()['75%'] - df['Tn'].describe()['25%']"
   ]
  },
  {
   "cell_type": "code",
   "execution_count": 13,
   "metadata": {},
   "outputs": [],
   "source": [
    "def detect_outliers(df, Tn):\n",
    "    Q1 = df[\"Tn\"].describe()['25%']\n",
    "    Q3 = df[\"Tn\"].describe()['75%']\n",
    "    IQR = Q3-Q1\n",
    "    return df[(df[\"Tn\"] < Q1-1.5*IQR) | (df[\"Tn\"] > Q3+1.5*IQR)]"
   ]
  },
  {
   "cell_type": "code",
   "execution_count": 14,
   "metadata": {
    "scrolled": true
   },
   "outputs": [
    {
     "data": {
      "text/html": [
       "<div>\n",
       "<style scoped>\n",
       "    .dataframe tbody tr th:only-of-type {\n",
       "        vertical-align: middle;\n",
       "    }\n",
       "\n",
       "    .dataframe tbody tr th {\n",
       "        vertical-align: top;\n",
       "    }\n",
       "\n",
       "    .dataframe thead th {\n",
       "        text-align: right;\n",
       "    }\n",
       "</style>\n",
       "<table border=\"1\" class=\"dataframe\">\n",
       "  <thead>\n",
       "    <tr style=\"text-align: right;\">\n",
       "      <th></th>\n",
       "      <th>Tanggal</th>\n",
       "      <th>Tn</th>\n",
       "      <th>Tx</th>\n",
       "      <th>Tavg</th>\n",
       "      <th>RH_avg</th>\n",
       "      <th>ss</th>\n",
       "      <th>ff_x</th>\n",
       "      <th>ff_avg</th>\n",
       "      <th>ddd_car</th>\n",
       "    </tr>\n",
       "  </thead>\n",
       "  <tbody>\n",
       "  </tbody>\n",
       "</table>\n",
       "</div>"
      ],
      "text/plain": [
       "Empty DataFrame\n",
       "Columns: [Tanggal, Tn, Tx, Tavg, RH_avg, ss, ff_x, ff_avg, ddd_car]\n",
       "Index: []"
      ]
     },
     "execution_count": 14,
     "metadata": {},
     "output_type": "execute_result"
    }
   ],
   "source": [
    "detect_outliers(df,'Tn')"
   ]
  },
  {
   "cell_type": "markdown",
   "metadata": {},
   "source": [
    "Kolom Tx"
   ]
  },
  {
   "cell_type": "code",
   "execution_count": 15,
   "metadata": {},
   "outputs": [
    {
     "data": {
      "image/png": "[encoded data removed]",
      "text/plain": [
       "<Figure size 720x360 with 1 Axes>"
      ]
     },
     "metadata": {
      "needs_background": "light"
     },
     "output_type": "display_data"
    }
   ],
   "source": [
    "plt.figure(figsize = (10, 5))\n",
    "sns.boxplot(df['Tx'])\n",
    "plt.annotate('Outlier', (df['Tx'].describe()['max'],0.1), xytext = (df['Tx'].describe()['max'],0.3),\n",
    "             arrowprops = dict(facecolor = 'blue'), fontsize = 13 )\n",
    "IQR = df['Tx'].describe()['75%'] - df['Tx'].describe()['25%']"
   ]
  },
  {
   "cell_type": "code",
   "execution_count": 16,
   "metadata": {},
   "outputs": [],
   "source": [
    "def detect_outliers(df, Tx):\n",
    "    Q1 = df[\"Tx\"].describe()['25%']\n",
    "    Q3 = df[\"Tx\"].describe()['75%']\n",
    "    IQR = Q3-Q1\n",
    "    return df[(df[\"Tx\"] < Q1-1.5*IQR) | (df[\"Tx\"] > Q3+1.5*IQR)]"
   ]
  },
  {
   "cell_type": "code",
   "execution_count": 17,
   "metadata": {},
   "outputs": [
    {
     "data": {
      "text/html": [
       "<div>\n",
       "<style scoped>\n",
       "    .dataframe tbody tr th:only-of-type {\n",
       "        vertical-align: middle;\n",
       "    }\n",
       "\n",
       "    .dataframe tbody tr th {\n",
       "        vertical-align: top;\n",
       "    }\n",
       "\n",
       "    .dataframe thead th {\n",
       "        text-align: right;\n",
       "    }\n",
       "</style>\n",
       "<table border=\"1\" class=\"dataframe\">\n",
       "  <thead>\n",
       "    <tr style=\"text-align: right;\">\n",
       "      <th></th>\n",
       "      <th>Tanggal</th>\n",
       "      <th>Tn</th>\n",
       "      <th>Tx</th>\n",
       "      <th>Tavg</th>\n",
       "      <th>RH_avg</th>\n",
       "      <th>ss</th>\n",
       "      <th>ff_x</th>\n",
       "      <th>ff_avg</th>\n",
       "      <th>ddd_car</th>\n",
       "    </tr>\n",
       "  </thead>\n",
       "  <tbody>\n",
       "  </tbody>\n",
       "</table>\n",
       "</div>"
      ],
      "text/plain": [
       "Empty DataFrame\n",
       "Columns: [Tanggal, Tn, Tx, Tavg, RH_avg, ss, ff_x, ff_avg, ddd_car]\n",
       "Index: []"
      ]
     },
     "execution_count": 17,
     "metadata": {},
     "output_type": "execute_result"
    }
   ],
   "source": [
    "detect_outliers(df,'Tx')"
   ]
  },
  {
   "cell_type": "markdown",
   "metadata": {},
   "source": [
    "Kolom Tavg"
   ]
  },
  {
   "cell_type": "code",
   "execution_count": 18,
   "metadata": {},
   "outputs": [
    {
     "data": {
      "image/png": "[encoded data removed]",
      "text/plain": [
       "<Figure size 720x360 with 1 Axes>"
      ]
     },
     "metadata": {
      "needs_background": "light"
     },
     "output_type": "display_data"
    }
   ],
   "source": [
    "plt.figure(figsize = (10, 5))\n",
    "sns.boxplot(df['Tavg'])\n",
    "plt.annotate('Outlier', (df['Tavg'].describe()['max'],0.1), xytext = (df['Tavg'].describe()['max'],0.3),\n",
    "             arrowprops = dict(facecolor = 'blue'), fontsize = 13 )\n",
    "IQR = df['Tavg'].describe()['75%'] - df['Tavg'].describe()['25%']"
   ]
  },
  {
   "cell_type": "code",
   "execution_count": 19,
   "metadata": {},
   "outputs": [],
   "source": [
    "def detect_outliers(df, Tavg):\n",
    "    Q1 = df[\"Tavg\"].describe()['25%']\n",
    "    Q3 = df[\"Tavg\"].describe()['75%']\n",
    "    IQR = Q3-Q1\n",
    "    return df[(df[\"Tavg\"] < Q1-1.5*IQR) | (df[\"Tavg\"] > Q3+1.5*IQR)]"
   ]
  },
  {
   "cell_type": "code",
   "execution_count": 20,
   "metadata": {
    "scrolled": true
   },
   "outputs": [
    {
     "data": {
      "text/html": [
       "<div>\n",
       "<style scoped>\n",
       "    .dataframe tbody tr th:only-of-type {\n",
       "        vertical-align: middle;\n",
       "    }\n",
       "\n",
       "    .dataframe tbody tr th {\n",
       "        vertical-align: top;\n",
       "    }\n",
       "\n",
       "    .dataframe thead th {\n",
       "        text-align: right;\n",
       "    }\n",
       "</style>\n",
       "<table border=\"1\" class=\"dataframe\">\n",
       "  <thead>\n",
       "    <tr style=\"text-align: right;\">\n",
       "      <th></th>\n",
       "      <th>Tanggal</th>\n",
       "      <th>Tn</th>\n",
       "      <th>Tx</th>\n",
       "      <th>Tavg</th>\n",
       "      <th>RH_avg</th>\n",
       "      <th>ss</th>\n",
       "      <th>ff_x</th>\n",
       "      <th>ff_avg</th>\n",
       "      <th>ddd_car</th>\n",
       "    </tr>\n",
       "  </thead>\n",
       "  <tbody>\n",
       "  </tbody>\n",
       "</table>\n",
       "</div>"
      ],
      "text/plain": [
       "Empty DataFrame\n",
       "Columns: [Tanggal, Tn, Tx, Tavg, RH_avg, ss, ff_x, ff_avg, ddd_car]\n",
       "Index: []"
      ]
     },
     "execution_count": 20,
     "metadata": {},
     "output_type": "execute_result"
    }
   ],
   "source": [
    "detect_outliers(df,'Tavg')"
   ]
  },
  {
   "cell_type": "markdown",
   "metadata": {},
   "source": [
    "Kolom RH_avg"
   ]
  },
  {
   "cell_type": "code",
   "execution_count": 21,
   "metadata": {},
   "outputs": [
    {
     "data": {
      "image/png": "[encoded data removed]",
      "text/plain": [
       "<Figure size 720x360 with 1 Axes>"
      ]
     },
     "metadata": {
      "needs_background": "light"
     },
     "output_type": "display_data"
    }
   ],
   "source": [
    "plt.figure(figsize = (10, 5))\n",
    "sns.boxplot(df['RH_avg'])\n",
    "plt.annotate('Outlier', (df['RH_avg'].describe()['max'],0.1), xytext = (df['RH_avg'].describe()['max'],0.3),\n",
    "             arrowprops = dict(facecolor = 'blue'), fontsize = 13 )\n",
    "IQR = df['RH_avg'].describe()['75%'] - df['RH_avg'].describe()['25%']"
   ]
  },
  {
   "cell_type": "code",
   "execution_count": 22,
   "metadata": {},
   "outputs": [],
   "source": [
    "def detect_outliers(df, RH_avg):\n",
    "    Q1 = df[\"RH_avg\"].describe()['25%']\n",
    "    Q3 = df[\"RH_avg\"].describe()['75%']\n",
    "    IQR = Q3-Q1\n",
    "    return df[(df[\"RH_avg\"] < Q1-1.5*IQR) | (df[\"RH_avg\"] > Q3+1.5*IQR)]"
   ]
  },
  {
   "cell_type": "code",
   "execution_count": 23,
   "metadata": {},
   "outputs": [
    {
     "data": {
      "text/html": [
       "<div>\n",
       "<style scoped>\n",
       "    .dataframe tbody tr th:only-of-type {\n",
       "        vertical-align: middle;\n",
       "    }\n",
       "\n",
       "    .dataframe tbody tr th {\n",
       "        vertical-align: top;\n",
       "    }\n",
       "\n",
       "    .dataframe thead th {\n",
       "        text-align: right;\n",
       "    }\n",
       "</style>\n",
       "<table border=\"1\" class=\"dataframe\">\n",
       "  <thead>\n",
       "    <tr style=\"text-align: right;\">\n",
       "      <th></th>\n",
       "      <th>Tanggal</th>\n",
       "      <th>Tn</th>\n",
       "      <th>Tx</th>\n",
       "      <th>Tavg</th>\n",
       "      <th>RH_avg</th>\n",
       "      <th>ss</th>\n",
       "      <th>ff_x</th>\n",
       "      <th>ff_avg</th>\n",
       "      <th>ddd_car</th>\n",
       "    </tr>\n",
       "  </thead>\n",
       "  <tbody>\n",
       "  </tbody>\n",
       "</table>\n",
       "</div>"
      ],
      "text/plain": [
       "Empty DataFrame\n",
       "Columns: [Tanggal, Tn, Tx, Tavg, RH_avg, ss, ff_x, ff_avg, ddd_car]\n",
       "Index: []"
      ]
     },
     "execution_count": 23,
     "metadata": {},
     "output_type": "execute_result"
    }
   ],
   "source": [
    "detect_outliers(df,'RH_avg')"
   ]
  },
  {
   "cell_type": "markdown",
   "metadata": {},
   "source": [
    "Kolom ss"
   ]
  },
  {
   "cell_type": "code",
   "execution_count": 24,
   "metadata": {},
   "outputs": [],
   "source": [
    "def detect_outliers(df, ss):\n",
    "    Q1 = df[\"ss\"].describe()['25%']\n",
    "    Q3 = df[\"ss\"].describe()['75%']\n",
    "    IQR = Q3-Q1\n",
    "    return df[(df[\"ss\"] < Q1-1.5*IQR) | (df[\"ss\"] > Q3+1.5*IQR)]"
   ]
  },
  {
   "cell_type": "code",
   "execution_count": 25,
   "metadata": {},
   "outputs": [
    {
     "data": {
      "text/html": [
       "<div>\n",
       "<style scoped>\n",
       "    .dataframe tbody tr th:only-of-type {\n",
       "        vertical-align: middle;\n",
       "    }\n",
       "\n",
       "    .dataframe tbody tr th {\n",
       "        vertical-align: top;\n",
       "    }\n",
       "\n",
       "    .dataframe thead th {\n",
       "        text-align: right;\n",
       "    }\n",
       "</style>\n",
       "<table border=\"1\" class=\"dataframe\">\n",
       "  <thead>\n",
       "    <tr style=\"text-align: right;\">\n",
       "      <th></th>\n",
       "      <th>Tanggal</th>\n",
       "      <th>Tn</th>\n",
       "      <th>Tx</th>\n",
       "      <th>Tavg</th>\n",
       "      <th>RH_avg</th>\n",
       "      <th>ss</th>\n",
       "      <th>ff_x</th>\n",
       "      <th>ff_avg</th>\n",
       "      <th>ddd_car</th>\n",
       "    </tr>\n",
       "  </thead>\n",
       "  <tbody>\n",
       "  </tbody>\n",
       "</table>\n",
       "</div>"
      ],
      "text/plain": [
       "Empty DataFrame\n",
       "Columns: [Tanggal, Tn, Tx, Tavg, RH_avg, ss, ff_x, ff_avg, ddd_car]\n",
       "Index: []"
      ]
     },
     "execution_count": 25,
     "metadata": {},
     "output_type": "execute_result"
    }
   ],
   "source": [
    "detect_outliers(df,'ss')"
   ]
  },
  {
   "cell_type": "markdown",
   "metadata": {},
   "source": [
    "Kolom ff_x"
   ]
  },
  {
   "cell_type": "code",
   "execution_count": 26,
   "metadata": {},
   "outputs": [
    {
     "data": {
      "image/png": "[encoded data removed]",
      "text/plain": [
       "<Figure size 720x360 with 1 Axes>"
      ]
     },
     "metadata": {
      "needs_background": "light"
     },
     "output_type": "display_data"
    }
   ],
   "source": [
    "plt.figure(figsize = (10, 5))\n",
    "sns.boxplot(df['ff_x'])\n",
    "plt.annotate('Outlier', (df['ff_x'].describe()['max'],0.1), xytext = (df['ff_x'].describe()['max'],0.3),\n",
    "             arrowprops = dict(facecolor = 'blue'), fontsize = 13 )\n",
    "IQR = df['ff_x'].describe()['75%'] - df['ff_x'].describe()['25%']"
   ]
  },
  {
   "cell_type": "code",
   "execution_count": 27,
   "metadata": {},
   "outputs": [],
   "source": [
    "def detect_outliers(df, ff_x):\n",
    "    Q1 = df[\"ff_x\"].describe()['25%']\n",
    "    Q3 = df[\"ff_x\"].describe()['75%']\n",
    "    IQR = Q3-Q1\n",
    "    return df[(df[\"ff_x\"] < Q1-1.5*IQR) | (df[\"ff_x\"] > Q3+1.5*IQR)]"
   ]
  },
  {
   "cell_type": "code",
   "execution_count": 28,
   "metadata": {
    "scrolled": true
   },
   "outputs": [
    {
     "data": {
      "text/html": [
       "<div>\n",
       "<style scoped>\n",
       "    .dataframe tbody tr th:only-of-type {\n",
       "        vertical-align: middle;\n",
       "    }\n",
       "\n",
       "    .dataframe tbody tr th {\n",
       "        vertical-align: top;\n",
       "    }\n",
       "\n",
       "    .dataframe thead th {\n",
       "        text-align: right;\n",
       "    }\n",
       "</style>\n",
       "<table border=\"1\" class=\"dataframe\">\n",
       "  <thead>\n",
       "    <tr style=\"text-align: right;\">\n",
       "      <th></th>\n",
       "      <th>Tanggal</th>\n",
       "      <th>Tn</th>\n",
       "      <th>Tx</th>\n",
       "      <th>Tavg</th>\n",
       "      <th>RH_avg</th>\n",
       "      <th>ss</th>\n",
       "      <th>ff_x</th>\n",
       "      <th>ff_avg</th>\n",
       "      <th>ddd_car</th>\n",
       "    </tr>\n",
       "  </thead>\n",
       "  <tbody>\n",
       "    <tr>\n",
       "      <th>12</th>\n",
       "      <td>13-10-2021</td>\n",
       "      <td>25.4</td>\n",
       "      <td>34.2</td>\n",
       "      <td>28.6</td>\n",
       "      <td>80</td>\n",
       "      <td>8.0</td>\n",
       "      <td>7</td>\n",
       "      <td>3</td>\n",
       "      <td>NE</td>\n",
       "    </tr>\n",
       "  </tbody>\n",
       "</table>\n",
       "</div>"
      ],
      "text/plain": [
       "       Tanggal    Tn    Tx  Tavg  RH_avg   ss  ff_x  ff_avg ddd_car\n",
       "12  13-10-2021  25.4  34.2  28.6      80  8.0     7       3      NE"
      ]
     },
     "execution_count": 28,
     "metadata": {},
     "output_type": "execute_result"
    }
   ],
   "source": [
    "detect_outliers(df, 'ff_x')"
   ]
  },
  {
   "cell_type": "code",
   "execution_count": 29,
   "metadata": {},
   "outputs": [],
   "source": [
    "df = df.drop((df[df[\"ff_x\"]>6]).index, axis=0)"
   ]
  },
  {
   "cell_type": "code",
   "execution_count": 30,
   "metadata": {},
   "outputs": [
    {
     "data": {
      "text/html": [
       "<div>\n",
       "<style scoped>\n",
       "    .dataframe tbody tr th:only-of-type {\n",
       "        vertical-align: middle;\n",
       "    }\n",
       "\n",
       "    .dataframe tbody tr th {\n",
       "        vertical-align: top;\n",
       "    }\n",
       "\n",
       "    .dataframe thead th {\n",
       "        text-align: right;\n",
       "    }\n",
       "</style>\n",
       "<table border=\"1\" class=\"dataframe\">\n",
       "  <thead>\n",
       "    <tr style=\"text-align: right;\">\n",
       "      <th></th>\n",
       "      <th>Tanggal</th>\n",
       "      <th>Tn</th>\n",
       "      <th>Tx</th>\n",
       "      <th>Tavg</th>\n",
       "      <th>RH_avg</th>\n",
       "      <th>ss</th>\n",
       "      <th>ff_x</th>\n",
       "      <th>ff_avg</th>\n",
       "      <th>ddd_car</th>\n",
       "    </tr>\n",
       "  </thead>\n",
       "  <tbody>\n",
       "  </tbody>\n",
       "</table>\n",
       "</div>"
      ],
      "text/plain": [
       "Empty DataFrame\n",
       "Columns: [Tanggal, Tn, Tx, Tavg, RH_avg, ss, ff_x, ff_avg, ddd_car]\n",
       "Index: []"
      ]
     },
     "execution_count": 30,
     "metadata": {},
     "output_type": "execute_result"
    }
   ],
   "source": [
    "detect_outliers(df, 'ff_x')"
   ]
  },
  {
   "cell_type": "markdown",
   "metadata": {},
   "source": [
    "Kolom ff_avg"
   ]
  },
  {
   "cell_type": "code",
   "execution_count": 31,
   "metadata": {},
   "outputs": [
    {
     "data": {
      "image/png": "[encoded data removed]",
      "text/plain": [
       "<Figure size 720x360 with 1 Axes>"
      ]
     },
     "metadata": {
      "needs_background": "light"
     },
     "output_type": "display_data"
    }
   ],
   "source": [
    "plt.figure(figsize = (10, 5))\n",
    "sns.boxplot(df['ff_avg'])\n",
    "plt.annotate('Outlier', (df['ff_avg'].describe()['max'],0.1), xytext = (df['ff_avg'].describe()['max'],0.3),\n",
    "             arrowprops = dict(facecolor = 'blue'), fontsize = 13 )\n",
    "IQR = df['ff_avg'].describe()['75%'] - df['ff_avg'].describe()['25%']"
   ]
  },
  {
   "cell_type": "code",
   "execution_count": 32,
   "metadata": {},
   "outputs": [],
   "source": [
    "def detect_outliers(df, ff_avg):\n",
    "    Q1 = df[\"ff_avg\"].describe()['25%']\n",
    "    Q3 = df[\"ff_avg\"].describe()['75%']\n",
    "    IQR = Q3-Q1\n",
    "    return df[(df[\"ff_avg\"] < Q1-1.5*IQR) | (df[\"ff_avg\"] > Q3+1.5*IQR)]"
   ]
  },
  {
   "cell_type": "code",
   "execution_count": 33,
   "metadata": {},
   "outputs": [
    {
     "data": {
      "text/html": [
       "<div>\n",
       "<style scoped>\n",
       "    .dataframe tbody tr th:only-of-type {\n",
       "        vertical-align: middle;\n",
       "    }\n",
       "\n",
       "    .dataframe tbody tr th {\n",
       "        vertical-align: top;\n",
       "    }\n",
       "\n",
       "    .dataframe thead th {\n",
       "        text-align: right;\n",
       "    }\n",
       "</style>\n",
       "<table border=\"1\" class=\"dataframe\">\n",
       "  <thead>\n",
       "    <tr style=\"text-align: right;\">\n",
       "      <th></th>\n",
       "      <th>Tanggal</th>\n",
       "      <th>Tn</th>\n",
       "      <th>Tx</th>\n",
       "      <th>Tavg</th>\n",
       "      <th>RH_avg</th>\n",
       "      <th>ss</th>\n",
       "      <th>ff_x</th>\n",
       "      <th>ff_avg</th>\n",
       "      <th>ddd_car</th>\n",
       "    </tr>\n",
       "  </thead>\n",
       "  <tbody>\n",
       "    <tr>\n",
       "      <th>1</th>\n",
       "      <td>02-10-2021</td>\n",
       "      <td>24.2</td>\n",
       "      <td>33.2</td>\n",
       "      <td>27.8</td>\n",
       "      <td>77</td>\n",
       "      <td>0.4</td>\n",
       "      <td>4</td>\n",
       "      <td>1</td>\n",
       "      <td>C</td>\n",
       "    </tr>\n",
       "    <tr>\n",
       "      <th>16</th>\n",
       "      <td>17-10-2021</td>\n",
       "      <td>25.6</td>\n",
       "      <td>31.0</td>\n",
       "      <td>27.0</td>\n",
       "      <td>85</td>\n",
       "      <td>7.5</td>\n",
       "      <td>4</td>\n",
       "      <td>1</td>\n",
       "      <td>C</td>\n",
       "    </tr>\n",
       "    <tr>\n",
       "      <th>19</th>\n",
       "      <td>20-10-2021</td>\n",
       "      <td>24.0</td>\n",
       "      <td>30.2</td>\n",
       "      <td>26.3</td>\n",
       "      <td>88</td>\n",
       "      <td>4.3</td>\n",
       "      <td>3</td>\n",
       "      <td>1</td>\n",
       "      <td>C</td>\n",
       "    </tr>\n",
       "    <tr>\n",
       "      <th>20</th>\n",
       "      <td>21-10-2021</td>\n",
       "      <td>24.0</td>\n",
       "      <td>30.0</td>\n",
       "      <td>26.3</td>\n",
       "      <td>88</td>\n",
       "      <td>2.2</td>\n",
       "      <td>3</td>\n",
       "      <td>1</td>\n",
       "      <td>NE</td>\n",
       "    </tr>\n",
       "    <tr>\n",
       "      <th>24</th>\n",
       "      <td>25-10-2021</td>\n",
       "      <td>24.2</td>\n",
       "      <td>31.2</td>\n",
       "      <td>27.0</td>\n",
       "      <td>85</td>\n",
       "      <td>2.2</td>\n",
       "      <td>4</td>\n",
       "      <td>3</td>\n",
       "      <td>NE</td>\n",
       "    </tr>\n",
       "    <tr>\n",
       "      <th>25</th>\n",
       "      <td>26-10-2021</td>\n",
       "      <td>23.6</td>\n",
       "      <td>32.0</td>\n",
       "      <td>27.1</td>\n",
       "      <td>84</td>\n",
       "      <td>6.7</td>\n",
       "      <td>3</td>\n",
       "      <td>1</td>\n",
       "      <td>NE</td>\n",
       "    </tr>\n",
       "    <tr>\n",
       "      <th>26</th>\n",
       "      <td>27-10-2021</td>\n",
       "      <td>25.0</td>\n",
       "      <td>31.0</td>\n",
       "      <td>27.1</td>\n",
       "      <td>86</td>\n",
       "      <td>9.1</td>\n",
       "      <td>3</td>\n",
       "      <td>0</td>\n",
       "      <td>C</td>\n",
       "    </tr>\n",
       "  </tbody>\n",
       "</table>\n",
       "</div>"
      ],
      "text/plain": [
       "       Tanggal    Tn    Tx  Tavg  RH_avg   ss  ff_x  ff_avg ddd_car\n",
       "1   02-10-2021  24.2  33.2  27.8      77  0.4     4       1      C \n",
       "16  17-10-2021  25.6  31.0  27.0      85  7.5     4       1      C \n",
       "19  20-10-2021  24.0  30.2  26.3      88  4.3     3       1      C \n",
       "20  21-10-2021  24.0  30.0  26.3      88  2.2     3       1      NE\n",
       "24  25-10-2021  24.2  31.2  27.0      85  2.2     4       3      NE\n",
       "25  26-10-2021  23.6  32.0  27.1      84  6.7     3       1      NE\n",
       "26  27-10-2021  25.0  31.0  27.1      86  9.1     3       0      C "
      ]
     },
     "execution_count": 33,
     "metadata": {},
     "output_type": "execute_result"
    }
   ],
   "source": [
    "detect_outliers(df, 'ff_avg')"
   ]
  },
  {
   "cell_type": "code",
   "execution_count": 34,
   "metadata": {},
   "outputs": [],
   "source": [
    "df = df.drop((df[df[\"ff_avg\"]>2]).index, axis=0)"
   ]
  },
  {
   "cell_type": "code",
   "execution_count": 35,
   "metadata": {},
   "outputs": [],
   "source": [
    "df = df.drop((df[df[\"ff_avg\"]<2]).index, axis=0)"
   ]
  },
  {
   "cell_type": "code",
   "execution_count": 36,
   "metadata": {},
   "outputs": [
    {
     "name": "stdout",
     "output_type": "stream",
     "text": [
      "Ukuran df setelah dibuang baris yang memiliki outlier: 21 baris, 9 kolom.\n"
     ]
    }
   ],
   "source": [
    "print(\"Ukuran df setelah dibuang baris yang memiliki outlier: %d baris, %d kolom.\"%df.shape)"
   ]
  },
  {
   "cell_type": "markdown",
   "metadata": {},
   "source": [
    "# Memeriksa Kembali Data yang Siap digunakan"
   ]
  },
  {
   "cell_type": "code",
   "execution_count": 37,
   "metadata": {},
   "outputs": [
    {
     "data": {
      "text/html": [
       "<div>\n",
       "<style scoped>\n",
       "    .dataframe tbody tr th:only-of-type {\n",
       "        vertical-align: middle;\n",
       "    }\n",
       "\n",
       "    .dataframe tbody tr th {\n",
       "        vertical-align: top;\n",
       "    }\n",
       "\n",
       "    .dataframe thead th {\n",
       "        text-align: right;\n",
       "    }\n",
       "</style>\n",
       "<table border=\"1\" class=\"dataframe\">\n",
       "  <thead>\n",
       "    <tr style=\"text-align: right;\">\n",
       "      <th></th>\n",
       "      <th>Tanggal</th>\n",
       "      <th>Tn</th>\n",
       "      <th>Tx</th>\n",
       "      <th>Tavg</th>\n",
       "      <th>RH_avg</th>\n",
       "      <th>ss</th>\n",
       "      <th>ff_x</th>\n",
       "      <th>ff_avg</th>\n",
       "      <th>ddd_car</th>\n",
       "    </tr>\n",
       "  </thead>\n",
       "  <tbody>\n",
       "    <tr>\n",
       "      <th>0</th>\n",
       "      <td>01-10-2021</td>\n",
       "      <td>25.4</td>\n",
       "      <td>31.4</td>\n",
       "      <td>27.8</td>\n",
       "      <td>76</td>\n",
       "      <td>7.3</td>\n",
       "      <td>6</td>\n",
       "      <td>2</td>\n",
       "      <td>SW</td>\n",
       "    </tr>\n",
       "    <tr>\n",
       "      <th>2</th>\n",
       "      <td>03-10-2021</td>\n",
       "      <td>25.6</td>\n",
       "      <td>33.2</td>\n",
       "      <td>28.5</td>\n",
       "      <td>82</td>\n",
       "      <td>4.4</td>\n",
       "      <td>5</td>\n",
       "      <td>2</td>\n",
       "      <td>NE</td>\n",
       "    </tr>\n",
       "    <tr>\n",
       "      <th>3</th>\n",
       "      <td>04-10-2021</td>\n",
       "      <td>23.8</td>\n",
       "      <td>33.6</td>\n",
       "      <td>27.6</td>\n",
       "      <td>78</td>\n",
       "      <td>9.2</td>\n",
       "      <td>6</td>\n",
       "      <td>2</td>\n",
       "      <td>NE</td>\n",
       "    </tr>\n",
       "    <tr>\n",
       "      <th>4</th>\n",
       "      <td>05-10-2021</td>\n",
       "      <td>25.0</td>\n",
       "      <td>31.2</td>\n",
       "      <td>27.4</td>\n",
       "      <td>87</td>\n",
       "      <td>8.6</td>\n",
       "      <td>4</td>\n",
       "      <td>2</td>\n",
       "      <td>W</td>\n",
       "    </tr>\n",
       "    <tr>\n",
       "      <th>5</th>\n",
       "      <td>06-10-2021</td>\n",
       "      <td>25.0</td>\n",
       "      <td>31.6</td>\n",
       "      <td>27.5</td>\n",
       "      <td>79</td>\n",
       "      <td>0.7</td>\n",
       "      <td>5</td>\n",
       "      <td>2</td>\n",
       "      <td>C</td>\n",
       "    </tr>\n",
       "  </tbody>\n",
       "</table>\n",
       "</div>"
      ],
      "text/plain": [
       "      Tanggal    Tn    Tx  Tavg  RH_avg   ss  ff_x  ff_avg ddd_car\n",
       "0  01-10-2021  25.4  31.4  27.8      76  7.3     6       2      SW\n",
       "2  03-10-2021  25.6  33.2  28.5      82  4.4     5       2      NE\n",
       "3  04-10-2021  23.8  33.6  27.6      78  9.2     6       2      NE\n",
       "4  05-10-2021  25.0  31.2  27.4      87  8.6     4       2      W \n",
       "5  06-10-2021  25.0  31.6  27.5      79  0.7     5       2      C "
      ]
     },
     "execution_count": 37,
     "metadata": {},
     "output_type": "execute_result"
    }
   ],
   "source": [
    "df.head()"
   ]
  },
  {
   "cell_type": "code",
   "execution_count": 38,
   "metadata": {},
   "outputs": [
    {
     "data": {
      "text/html": [
       "<div>\n",
       "<style scoped>\n",
       "    .dataframe tbody tr th:only-of-type {\n",
       "        vertical-align: middle;\n",
       "    }\n",
       "\n",
       "    .dataframe tbody tr th {\n",
       "        vertical-align: top;\n",
       "    }\n",
       "\n",
       "    .dataframe thead th {\n",
       "        text-align: right;\n",
       "    }\n",
       "</style>\n",
       "<table border=\"1\" class=\"dataframe\">\n",
       "  <thead>\n",
       "    <tr style=\"text-align: right;\">\n",
       "      <th></th>\n",
       "      <th>Tn</th>\n",
       "      <th>Tx</th>\n",
       "      <th>Tavg</th>\n",
       "      <th>RH_avg</th>\n",
       "      <th>ss</th>\n",
       "      <th>ff_x</th>\n",
       "      <th>ff_avg</th>\n",
       "    </tr>\n",
       "  </thead>\n",
       "  <tbody>\n",
       "    <tr>\n",
       "      <th>count</th>\n",
       "      <td>21.000000</td>\n",
       "      <td>21.000000</td>\n",
       "      <td>21.000000</td>\n",
       "      <td>21.000000</td>\n",
       "      <td>21.000000</td>\n",
       "      <td>21.000000</td>\n",
       "      <td>21.0</td>\n",
       "    </tr>\n",
       "    <tr>\n",
       "      <th>mean</th>\n",
       "      <td>24.657143</td>\n",
       "      <td>32.723810</td>\n",
       "      <td>27.657143</td>\n",
       "      <td>82.428571</td>\n",
       "      <td>5.909524</td>\n",
       "      <td>4.523810</td>\n",
       "      <td>2.0</td>\n",
       "    </tr>\n",
       "    <tr>\n",
       "      <th>std</th>\n",
       "      <td>0.600476</td>\n",
       "      <td>1.459419</td>\n",
       "      <td>0.721506</td>\n",
       "      <td>3.515273</td>\n",
       "      <td>3.014947</td>\n",
       "      <td>0.872872</td>\n",
       "      <td>0.0</td>\n",
       "    </tr>\n",
       "    <tr>\n",
       "      <th>min</th>\n",
       "      <td>23.600000</td>\n",
       "      <td>30.200000</td>\n",
       "      <td>25.800000</td>\n",
       "      <td>76.000000</td>\n",
       "      <td>0.000000</td>\n",
       "      <td>3.000000</td>\n",
       "      <td>2.0</td>\n",
       "    </tr>\n",
       "    <tr>\n",
       "      <th>25%</th>\n",
       "      <td>24.000000</td>\n",
       "      <td>31.600000</td>\n",
       "      <td>27.400000</td>\n",
       "      <td>81.000000</td>\n",
       "      <td>4.400000</td>\n",
       "      <td>4.000000</td>\n",
       "      <td>2.0</td>\n",
       "    </tr>\n",
       "    <tr>\n",
       "      <th>50%</th>\n",
       "      <td>25.000000</td>\n",
       "      <td>32.600000</td>\n",
       "      <td>27.700000</td>\n",
       "      <td>82.000000</td>\n",
       "      <td>6.200000</td>\n",
       "      <td>4.000000</td>\n",
       "      <td>2.0</td>\n",
       "    </tr>\n",
       "    <tr>\n",
       "      <th>75%</th>\n",
       "      <td>25.000000</td>\n",
       "      <td>34.000000</td>\n",
       "      <td>28.200000</td>\n",
       "      <td>84.000000</td>\n",
       "      <td>8.500000</td>\n",
       "      <td>5.000000</td>\n",
       "      <td>2.0</td>\n",
       "    </tr>\n",
       "    <tr>\n",
       "      <th>max</th>\n",
       "      <td>25.600000</td>\n",
       "      <td>35.200000</td>\n",
       "      <td>28.600000</td>\n",
       "      <td>89.000000</td>\n",
       "      <td>9.700000</td>\n",
       "      <td>6.000000</td>\n",
       "      <td>2.0</td>\n",
       "    </tr>\n",
       "  </tbody>\n",
       "</table>\n",
       "</div>"
      ],
      "text/plain": [
       "              Tn         Tx       Tavg     RH_avg         ss       ff_x  \\\n",
       "count  21.000000  21.000000  21.000000  21.000000  21.000000  21.000000   \n",
       "mean   24.657143  32.723810  27.657143  82.428571   5.909524   4.523810   \n",
       "std     0.600476   1.459419   0.721506   3.515273   3.014947   0.872872   \n",
       "min    23.600000  30.200000  25.800000  76.000000   0.000000   3.000000   \n",
       "25%    24.000000  31.600000  27.400000  81.000000   4.400000   4.000000   \n",
       "50%    25.000000  32.600000  27.700000  82.000000   6.200000   4.000000   \n",
       "75%    25.000000  34.000000  28.200000  84.000000   8.500000   5.000000   \n",
       "max    25.600000  35.200000  28.600000  89.000000   9.700000   6.000000   \n",
       "\n",
       "       ff_avg  \n",
       "count    21.0  \n",
       "mean      2.0  \n",
       "std       0.0  \n",
       "min       2.0  \n",
       "25%       2.0  \n",
       "50%       2.0  \n",
       "75%       2.0  \n",
       "max       2.0  "
      ]
     },
     "execution_count": 38,
     "metadata": {},
     "output_type": "execute_result"
    }
   ],
   "source": [
    "df.describe()"
   ]
  },
  {
   "cell_type": "code",
   "execution_count": 39,
   "metadata": {},
   "outputs": [
    {
     "data": {
      "text/plain": [
       "(21, 9)"
      ]
     },
     "execution_count": 39,
     "metadata": {},
     "output_type": "execute_result"
    }
   ],
   "source": [
    "df.shape"
   ]
  },
  {
   "cell_type": "markdown",
   "metadata": {},
   "source": [
    "Memeriksa tipe data dari masing-masing kolom dan melihat berapa banyak nilai nol yang ada dalam data."
   ]
  },
  {
   "cell_type": "code",
   "execution_count": 40,
   "metadata": {},
   "outputs": [
    {
     "data": {
      "text/plain": [
       "Index(['Tanggal', 'Tn', 'Tx', 'Tavg', 'RH_avg', 'ss', 'ff_x', 'ff_avg',\n",
       "       'ddd_car'],\n",
       "      dtype='object')"
      ]
     },
     "execution_count": 40,
     "metadata": {},
     "output_type": "execute_result"
    }
   ],
   "source": [
    "df.columns"
   ]
  },
  {
   "cell_type": "code",
   "execution_count": 41,
   "metadata": {},
   "outputs": [
    {
     "data": {
      "text/plain": [
       "Tanggal     object\n",
       "Tn         float64\n",
       "Tx         float64\n",
       "Tavg       float64\n",
       "RH_avg       int64\n",
       "ss         float64\n",
       "ff_x         int64\n",
       "ff_avg       int64\n",
       "ddd_car     object\n",
       "dtype: object"
      ]
     },
     "execution_count": 41,
     "metadata": {},
     "output_type": "execute_result"
    }
   ],
   "source": [
    "df.dtypes"
   ]
  },
  {
   "cell_type": "code",
   "execution_count": 42,
   "metadata": {},
   "outputs": [
    {
     "data": {
      "text/plain": [
       "Tanggal    0\n",
       "Tn         0\n",
       "Tx         0\n",
       "Tavg       0\n",
       "RH_avg     0\n",
       "ss         0\n",
       "ff_x       0\n",
       "ff_avg     0\n",
       "ddd_car    0\n",
       "dtype: int64"
      ]
     },
     "execution_count": 42,
     "metadata": {},
     "output_type": "execute_result"
    }
   ],
   "source": [
    "#check NaNs\n",
    "df.isnull().sum()"
   ]
  },
  {
   "cell_type": "code",
   "execution_count": 43,
   "metadata": {},
   "outputs": [
    {
     "data": {
      "text/plain": [
       "<bound method DataFrame.select_dtypes of        Tanggal    Tn    Tx  Tavg  RH_avg   ss  ff_x  ff_avg ddd_car\n",
       "0   01-10-2021  25.4  31.4  27.8      76  7.3     6       2      SW\n",
       "2   03-10-2021  25.6  33.2  28.5      82  4.4     5       2      NE\n",
       "3   04-10-2021  23.8  33.6  27.6      78  9.2     6       2      NE\n",
       "4   05-10-2021  25.0  31.2  27.4      87  8.6     4       2      W \n",
       "5   06-10-2021  25.0  31.6  27.5      79  0.7     5       2      C \n",
       "6   07-10-2021  25.0  34.0  27.6      82  1.0     4       2      C \n",
       "7   08-10-2021  24.6  35.2  28.3      82  5.0     4       2      NE\n",
       "8   09-10-2021  24.8  32.6  28.0      84  5.0     4       2      NE\n",
       "9   10-10-2021  25.4  32.8  28.3      85  8.5     4       2      NE\n",
       "10  11-10-2021  24.0  35.2  28.2      76  6.6     5       2      C \n",
       "11  12-10-2021  25.0  34.4  28.4      81  8.3     6       2      C \n",
       "13  14-10-2021  25.0  34.6  28.6      81  9.2     4       2      E \n",
       "15  16-10-2021  25.0  34.0  28.2      80  9.7     6       2      C \n",
       "18  19-10-2021  23.8  31.4  27.7      83  5.8     5       2      NE\n",
       "22  23-10-2021  24.4  32.2  27.3      82  7.3     4       2      NE\n",
       "23  24-10-2021  23.6  30.8  25.8      89  9.6     3       2      NE\n",
       "27  28-10-2021  25.0  31.8  26.9      86  0.0     4       2      NE\n",
       "28  29-10-2021  24.6  33.0  27.8      82  5.7     4       2      C \n",
       "29  30-10-2021  25.0  32.4  27.6      84  3.7     4       2      N \n",
       "30  31-10-2021  23.8  30.2  26.2      88  6.2     4       2      NE\n",
       "31  01-11-2021  24.0  31.6  27.1      84  2.3     4       2      NE>"
      ]
     },
     "execution_count": 43,
     "metadata": {},
     "output_type": "execute_result"
    }
   ],
   "source": [
    "#show all objects\n",
    "df.select_dtypes"
   ]
  },
  {
   "cell_type": "code",
   "execution_count": 44,
   "metadata": {},
   "outputs": [
    {
     "data": {
      "text/html": [
       "<div>\n",
       "<style scoped>\n",
       "    .dataframe tbody tr th:only-of-type {\n",
       "        vertical-align: middle;\n",
       "    }\n",
       "\n",
       "    .dataframe tbody tr th {\n",
       "        vertical-align: top;\n",
       "    }\n",
       "\n",
       "    .dataframe thead th {\n",
       "        text-align: right;\n",
       "    }\n",
       "</style>\n",
       "<table border=\"1\" class=\"dataframe\">\n",
       "  <thead>\n",
       "    <tr style=\"text-align: right;\">\n",
       "      <th></th>\n",
       "      <th>Tanggal</th>\n",
       "      <th>ddd_car</th>\n",
       "    </tr>\n",
       "  </thead>\n",
       "  <tbody>\n",
       "    <tr>\n",
       "      <th>0</th>\n",
       "      <td>01-10-2021</td>\n",
       "      <td>SW</td>\n",
       "    </tr>\n",
       "    <tr>\n",
       "      <th>2</th>\n",
       "      <td>03-10-2021</td>\n",
       "      <td>NE</td>\n",
       "    </tr>\n",
       "    <tr>\n",
       "      <th>3</th>\n",
       "      <td>04-10-2021</td>\n",
       "      <td>NE</td>\n",
       "    </tr>\n",
       "    <tr>\n",
       "      <th>4</th>\n",
       "      <td>05-10-2021</td>\n",
       "      <td>W</td>\n",
       "    </tr>\n",
       "    <tr>\n",
       "      <th>5</th>\n",
       "      <td>06-10-2021</td>\n",
       "      <td>C</td>\n",
       "    </tr>\n",
       "    <tr>\n",
       "      <th>6</th>\n",
       "      <td>07-10-2021</td>\n",
       "      <td>C</td>\n",
       "    </tr>\n",
       "    <tr>\n",
       "      <th>7</th>\n",
       "      <td>08-10-2021</td>\n",
       "      <td>NE</td>\n",
       "    </tr>\n",
       "    <tr>\n",
       "      <th>8</th>\n",
       "      <td>09-10-2021</td>\n",
       "      <td>NE</td>\n",
       "    </tr>\n",
       "    <tr>\n",
       "      <th>9</th>\n",
       "      <td>10-10-2021</td>\n",
       "      <td>NE</td>\n",
       "    </tr>\n",
       "    <tr>\n",
       "      <th>10</th>\n",
       "      <td>11-10-2021</td>\n",
       "      <td>C</td>\n",
       "    </tr>\n",
       "    <tr>\n",
       "      <th>11</th>\n",
       "      <td>12-10-2021</td>\n",
       "      <td>C</td>\n",
       "    </tr>\n",
       "    <tr>\n",
       "      <th>13</th>\n",
       "      <td>14-10-2021</td>\n",
       "      <td>E</td>\n",
       "    </tr>\n",
       "    <tr>\n",
       "      <th>15</th>\n",
       "      <td>16-10-2021</td>\n",
       "      <td>C</td>\n",
       "    </tr>\n",
       "    <tr>\n",
       "      <th>18</th>\n",
       "      <td>19-10-2021</td>\n",
       "      <td>NE</td>\n",
       "    </tr>\n",
       "    <tr>\n",
       "      <th>22</th>\n",
       "      <td>23-10-2021</td>\n",
       "      <td>NE</td>\n",
       "    </tr>\n",
       "    <tr>\n",
       "      <th>23</th>\n",
       "      <td>24-10-2021</td>\n",
       "      <td>NE</td>\n",
       "    </tr>\n",
       "    <tr>\n",
       "      <th>27</th>\n",
       "      <td>28-10-2021</td>\n",
       "      <td>NE</td>\n",
       "    </tr>\n",
       "    <tr>\n",
       "      <th>28</th>\n",
       "      <td>29-10-2021</td>\n",
       "      <td>C</td>\n",
       "    </tr>\n",
       "    <tr>\n",
       "      <th>29</th>\n",
       "      <td>30-10-2021</td>\n",
       "      <td>N</td>\n",
       "    </tr>\n",
       "    <tr>\n",
       "      <th>30</th>\n",
       "      <td>31-10-2021</td>\n",
       "      <td>NE</td>\n",
       "    </tr>\n",
       "    <tr>\n",
       "      <th>31</th>\n",
       "      <td>01-11-2021</td>\n",
       "      <td>NE</td>\n",
       "    </tr>\n",
       "  </tbody>\n",
       "</table>\n",
       "</div>"
      ],
      "text/plain": [
       "       Tanggal ddd_car\n",
       "0   01-10-2021      SW\n",
       "2   03-10-2021      NE\n",
       "3   04-10-2021      NE\n",
       "4   05-10-2021      W \n",
       "5   06-10-2021      C \n",
       "6   07-10-2021      C \n",
       "7   08-10-2021      NE\n",
       "8   09-10-2021      NE\n",
       "9   10-10-2021      NE\n",
       "10  11-10-2021      C \n",
       "11  12-10-2021      C \n",
       "13  14-10-2021      E \n",
       "15  16-10-2021      C \n",
       "18  19-10-2021      NE\n",
       "22  23-10-2021      NE\n",
       "23  24-10-2021      NE\n",
       "27  28-10-2021      NE\n",
       "28  29-10-2021      C \n",
       "29  30-10-2021      N \n",
       "30  31-10-2021      NE\n",
       "31  01-11-2021      NE"
      ]
     },
     "execution_count": 44,
     "metadata": {},
     "output_type": "execute_result"
    }
   ],
   "source": [
    "df.select_dtypes(include=['object'])"
   ]
  },
  {
   "cell_type": "code",
   "execution_count": 45,
   "metadata": {},
   "outputs": [
    {
     "data": {
      "text/plain": [
       "float64    4\n",
       "int64      3\n",
       "object     2\n",
       "dtype: int64"
      ]
     },
     "execution_count": 45,
     "metadata": {},
     "output_type": "execute_result"
    }
   ],
   "source": [
    "df.dtypes.value_counts()"
   ]
  },
  {
   "cell_type": "code",
   "execution_count": 46,
   "metadata": {},
   "outputs": [
    {
     "data": {
      "text/plain": [
       "01-10-2021    1\n",
       "14-10-2021    1\n",
       "31-10-2021    1\n",
       "30-10-2021    1\n",
       "29-10-2021    1\n",
       "28-10-2021    1\n",
       "24-10-2021    1\n",
       "23-10-2021    1\n",
       "19-10-2021    1\n",
       "16-10-2021    1\n",
       "12-10-2021    1\n",
       "03-10-2021    1\n",
       "11-10-2021    1\n",
       "10-10-2021    1\n",
       "09-10-2021    1\n",
       "08-10-2021    1\n",
       "07-10-2021    1\n",
       "06-10-2021    1\n",
       "05-10-2021    1\n",
       "04-10-2021    1\n",
       "01-11-2021    1\n",
       "Name: Tanggal, dtype: int64"
      ]
     },
     "execution_count": 46,
     "metadata": {},
     "output_type": "execute_result"
    }
   ],
   "source": [
    "feature ='Tanggal'\n",
    "df[feature].value_counts()"
   ]
  },
  {
   "cell_type": "code",
   "execution_count": 47,
   "metadata": {},
   "outputs": [
    {
     "data": {
      "text/plain": [
       "array(['01-10-2021', '03-10-2021', '04-10-2021', '05-10-2021',\n",
       "       '06-10-2021', '07-10-2021', '08-10-2021', '09-10-2021',\n",
       "       '10-10-2021', '11-10-2021', '12-10-2021', '14-10-2021',\n",
       "       '16-10-2021', '19-10-2021', '23-10-2021', '24-10-2021',\n",
       "       '28-10-2021', '29-10-2021', '30-10-2021', '31-10-2021',\n",
       "       '01-11-2021'], dtype=object)"
      ]
     },
     "execution_count": 47,
     "metadata": {},
     "output_type": "execute_result"
    }
   ],
   "source": [
    "df[feature].unique()"
   ]
  },
  {
   "cell_type": "code",
   "execution_count": 48,
   "metadata": {},
   "outputs": [
    {
     "data": {
      "text/plain": [
       "Tanggal    21\n",
       "Tn          9\n",
       "Tx         17\n",
       "Tavg       16\n",
       "RH_avg     13\n",
       "ss         18\n",
       "ff_x        4\n",
       "ff_avg      1\n",
       "ddd_car     6\n",
       "dtype: int64"
      ]
     },
     "execution_count": 48,
     "metadata": {},
     "output_type": "execute_result"
    }
   ],
   "source": [
    "df.nunique()"
   ]
  },
  {
   "cell_type": "code",
   "execution_count": 49,
   "metadata": {},
   "outputs": [],
   "source": [
    "df_deep=df.copy(deep=True)\n",
    "df_shallow=df.copy(deep=False)"
   ]
  },
  {
   "cell_type": "code",
   "execution_count": 50,
   "metadata": {},
   "outputs": [
    {
     "data": {
      "text/plain": [
       "True"
      ]
     },
     "execution_count": 50,
     "metadata": {},
     "output_type": "execute_result"
    }
   ],
   "source": [
    "df['Tanggal'].is_unique"
   ]
  },
  {
   "cell_type": "code",
   "execution_count": 51,
   "metadata": {},
   "outputs": [
    {
     "data": {
      "text/html": [
       "<div>\n",
       "<style scoped>\n",
       "    .dataframe tbody tr th:only-of-type {\n",
       "        vertical-align: middle;\n",
       "    }\n",
       "\n",
       "    .dataframe tbody tr th {\n",
       "        vertical-align: top;\n",
       "    }\n",
       "\n",
       "    .dataframe thead th {\n",
       "        text-align: right;\n",
       "    }\n",
       "</style>\n",
       "<table border=\"1\" class=\"dataframe\">\n",
       "  <thead>\n",
       "    <tr style=\"text-align: right;\">\n",
       "      <th></th>\n",
       "      <th>Tn</th>\n",
       "      <th>Tx</th>\n",
       "      <th>Tavg</th>\n",
       "      <th>RH_avg</th>\n",
       "      <th>ss</th>\n",
       "      <th>ff_x</th>\n",
       "      <th>ff_avg</th>\n",
       "      <th>ddd_car</th>\n",
       "    </tr>\n",
       "    <tr>\n",
       "      <th>Tanggal</th>\n",
       "      <th></th>\n",
       "      <th></th>\n",
       "      <th></th>\n",
       "      <th></th>\n",
       "      <th></th>\n",
       "      <th></th>\n",
       "      <th></th>\n",
       "      <th></th>\n",
       "    </tr>\n",
       "  </thead>\n",
       "  <tbody>\n",
       "    <tr>\n",
       "      <th>01-10-2021</th>\n",
       "      <td>25.4</td>\n",
       "      <td>31.4</td>\n",
       "      <td>27.8</td>\n",
       "      <td>76</td>\n",
       "      <td>7.3</td>\n",
       "      <td>6</td>\n",
       "      <td>2</td>\n",
       "      <td>SW</td>\n",
       "    </tr>\n",
       "    <tr>\n",
       "      <th>03-10-2021</th>\n",
       "      <td>25.6</td>\n",
       "      <td>33.2</td>\n",
       "      <td>28.5</td>\n",
       "      <td>82</td>\n",
       "      <td>4.4</td>\n",
       "      <td>5</td>\n",
       "      <td>2</td>\n",
       "      <td>NE</td>\n",
       "    </tr>\n",
       "    <tr>\n",
       "      <th>04-10-2021</th>\n",
       "      <td>23.8</td>\n",
       "      <td>33.6</td>\n",
       "      <td>27.6</td>\n",
       "      <td>78</td>\n",
       "      <td>9.2</td>\n",
       "      <td>6</td>\n",
       "      <td>2</td>\n",
       "      <td>NE</td>\n",
       "    </tr>\n",
       "    <tr>\n",
       "      <th>05-10-2021</th>\n",
       "      <td>25.0</td>\n",
       "      <td>31.2</td>\n",
       "      <td>27.4</td>\n",
       "      <td>87</td>\n",
       "      <td>8.6</td>\n",
       "      <td>4</td>\n",
       "      <td>2</td>\n",
       "      <td>W</td>\n",
       "    </tr>\n",
       "    <tr>\n",
       "      <th>06-10-2021</th>\n",
       "      <td>25.0</td>\n",
       "      <td>31.6</td>\n",
       "      <td>27.5</td>\n",
       "      <td>79</td>\n",
       "      <td>0.7</td>\n",
       "      <td>5</td>\n",
       "      <td>2</td>\n",
       "      <td>C</td>\n",
       "    </tr>\n",
       "  </tbody>\n",
       "</table>\n",
       "</div>"
      ],
      "text/plain": [
       "              Tn    Tx  Tavg  RH_avg   ss  ff_x  ff_avg ddd_car\n",
       "Tanggal                                                        \n",
       "01-10-2021  25.4  31.4  27.8      76  7.3     6       2      SW\n",
       "03-10-2021  25.6  33.2  28.5      82  4.4     5       2      NE\n",
       "04-10-2021  23.8  33.6  27.6      78  9.2     6       2      NE\n",
       "05-10-2021  25.0  31.2  27.4      87  8.6     4       2      W \n",
       "06-10-2021  25.0  31.6  27.5      79  0.7     5       2      C "
      ]
     },
     "execution_count": 51,
     "metadata": {},
     "output_type": "execute_result"
    }
   ],
   "source": [
    "df = df.set_index('Tanggal')\n",
    "df.head()"
   ]
  },
  {
   "cell_type": "code",
   "execution_count": 52,
   "metadata": {},
   "outputs": [
    {
     "data": {
      "text/plain": [
       "Tn         25.4\n",
       "Tx         31.4\n",
       "Tavg       27.8\n",
       "RH_avg       76\n",
       "ss          7.3\n",
       "ff_x          6\n",
       "ff_avg        2\n",
       "ddd_car      SW\n",
       "Name: 01-10-2021, dtype: object"
      ]
     },
     "execution_count": 52,
     "metadata": {},
     "output_type": "execute_result"
    }
   ],
   "source": [
    "df.loc['01-10-2021']"
   ]
  },
  {
   "cell_type": "code",
   "execution_count": 53,
   "metadata": {},
   "outputs": [
    {
     "data": {
      "text/html": [
       "<div>\n",
       "<style scoped>\n",
       "    .dataframe tbody tr th:only-of-type {\n",
       "        vertical-align: middle;\n",
       "    }\n",
       "\n",
       "    .dataframe tbody tr th {\n",
       "        vertical-align: top;\n",
       "    }\n",
       "\n",
       "    .dataframe thead th {\n",
       "        text-align: right;\n",
       "    }\n",
       "</style>\n",
       "<table border=\"1\" class=\"dataframe\">\n",
       "  <thead>\n",
       "    <tr style=\"text-align: right;\">\n",
       "      <th></th>\n",
       "      <th>Tn</th>\n",
       "      <th>Tx</th>\n",
       "      <th>Tavg</th>\n",
       "      <th>RH_avg</th>\n",
       "      <th>ss</th>\n",
       "      <th>ff_x</th>\n",
       "      <th>ff_avg</th>\n",
       "      <th>ddd_car</th>\n",
       "    </tr>\n",
       "    <tr>\n",
       "      <th>Tanggal</th>\n",
       "      <th></th>\n",
       "      <th></th>\n",
       "      <th></th>\n",
       "      <th></th>\n",
       "      <th></th>\n",
       "      <th></th>\n",
       "      <th></th>\n",
       "      <th></th>\n",
       "    </tr>\n",
       "  </thead>\n",
       "  <tbody>\n",
       "    <tr>\n",
       "      <th>01-10-2021</th>\n",
       "      <td>25.4</td>\n",
       "      <td>31.4</td>\n",
       "      <td>27.8</td>\n",
       "      <td>76</td>\n",
       "      <td>7.3</td>\n",
       "      <td>6</td>\n",
       "      <td>2</td>\n",
       "      <td>SW</td>\n",
       "    </tr>\n",
       "    <tr>\n",
       "      <th>01-11-2021</th>\n",
       "      <td>24.0</td>\n",
       "      <td>31.6</td>\n",
       "      <td>27.1</td>\n",
       "      <td>84</td>\n",
       "      <td>2.3</td>\n",
       "      <td>4</td>\n",
       "      <td>2</td>\n",
       "      <td>NE</td>\n",
       "    </tr>\n",
       "    <tr>\n",
       "      <th>03-10-2021</th>\n",
       "      <td>25.6</td>\n",
       "      <td>33.2</td>\n",
       "      <td>28.5</td>\n",
       "      <td>82</td>\n",
       "      <td>4.4</td>\n",
       "      <td>5</td>\n",
       "      <td>2</td>\n",
       "      <td>NE</td>\n",
       "    </tr>\n",
       "    <tr>\n",
       "      <th>04-10-2021</th>\n",
       "      <td>23.8</td>\n",
       "      <td>33.6</td>\n",
       "      <td>27.6</td>\n",
       "      <td>78</td>\n",
       "      <td>9.2</td>\n",
       "      <td>6</td>\n",
       "      <td>2</td>\n",
       "      <td>NE</td>\n",
       "    </tr>\n",
       "    <tr>\n",
       "      <th>05-10-2021</th>\n",
       "      <td>25.0</td>\n",
       "      <td>31.2</td>\n",
       "      <td>27.4</td>\n",
       "      <td>87</td>\n",
       "      <td>8.6</td>\n",
       "      <td>4</td>\n",
       "      <td>2</td>\n",
       "      <td>W</td>\n",
       "    </tr>\n",
       "    <tr>\n",
       "      <th>06-10-2021</th>\n",
       "      <td>25.0</td>\n",
       "      <td>31.6</td>\n",
       "      <td>27.5</td>\n",
       "      <td>79</td>\n",
       "      <td>0.7</td>\n",
       "      <td>5</td>\n",
       "      <td>2</td>\n",
       "      <td>C</td>\n",
       "    </tr>\n",
       "    <tr>\n",
       "      <th>07-10-2021</th>\n",
       "      <td>25.0</td>\n",
       "      <td>34.0</td>\n",
       "      <td>27.6</td>\n",
       "      <td>82</td>\n",
       "      <td>1.0</td>\n",
       "      <td>4</td>\n",
       "      <td>2</td>\n",
       "      <td>C</td>\n",
       "    </tr>\n",
       "    <tr>\n",
       "      <th>08-10-2021</th>\n",
       "      <td>24.6</td>\n",
       "      <td>35.2</td>\n",
       "      <td>28.3</td>\n",
       "      <td>82</td>\n",
       "      <td>5.0</td>\n",
       "      <td>4</td>\n",
       "      <td>2</td>\n",
       "      <td>NE</td>\n",
       "    </tr>\n",
       "    <tr>\n",
       "      <th>09-10-2021</th>\n",
       "      <td>24.8</td>\n",
       "      <td>32.6</td>\n",
       "      <td>28.0</td>\n",
       "      <td>84</td>\n",
       "      <td>5.0</td>\n",
       "      <td>4</td>\n",
       "      <td>2</td>\n",
       "      <td>NE</td>\n",
       "    </tr>\n",
       "    <tr>\n",
       "      <th>10-10-2021</th>\n",
       "      <td>25.4</td>\n",
       "      <td>32.8</td>\n",
       "      <td>28.3</td>\n",
       "      <td>85</td>\n",
       "      <td>8.5</td>\n",
       "      <td>4</td>\n",
       "      <td>2</td>\n",
       "      <td>NE</td>\n",
       "    </tr>\n",
       "    <tr>\n",
       "      <th>11-10-2021</th>\n",
       "      <td>24.0</td>\n",
       "      <td>35.2</td>\n",
       "      <td>28.2</td>\n",
       "      <td>76</td>\n",
       "      <td>6.6</td>\n",
       "      <td>5</td>\n",
       "      <td>2</td>\n",
       "      <td>C</td>\n",
       "    </tr>\n",
       "    <tr>\n",
       "      <th>12-10-2021</th>\n",
       "      <td>25.0</td>\n",
       "      <td>34.4</td>\n",
       "      <td>28.4</td>\n",
       "      <td>81</td>\n",
       "      <td>8.3</td>\n",
       "      <td>6</td>\n",
       "      <td>2</td>\n",
       "      <td>C</td>\n",
       "    </tr>\n",
       "    <tr>\n",
       "      <th>14-10-2021</th>\n",
       "      <td>25.0</td>\n",
       "      <td>34.6</td>\n",
       "      <td>28.6</td>\n",
       "      <td>81</td>\n",
       "      <td>9.2</td>\n",
       "      <td>4</td>\n",
       "      <td>2</td>\n",
       "      <td>E</td>\n",
       "    </tr>\n",
       "    <tr>\n",
       "      <th>16-10-2021</th>\n",
       "      <td>25.0</td>\n",
       "      <td>34.0</td>\n",
       "      <td>28.2</td>\n",
       "      <td>80</td>\n",
       "      <td>9.7</td>\n",
       "      <td>6</td>\n",
       "      <td>2</td>\n",
       "      <td>C</td>\n",
       "    </tr>\n",
       "    <tr>\n",
       "      <th>19-10-2021</th>\n",
       "      <td>23.8</td>\n",
       "      <td>31.4</td>\n",
       "      <td>27.7</td>\n",
       "      <td>83</td>\n",
       "      <td>5.8</td>\n",
       "      <td>5</td>\n",
       "      <td>2</td>\n",
       "      <td>NE</td>\n",
       "    </tr>\n",
       "    <tr>\n",
       "      <th>23-10-2021</th>\n",
       "      <td>24.4</td>\n",
       "      <td>32.2</td>\n",
       "      <td>27.3</td>\n",
       "      <td>82</td>\n",
       "      <td>7.3</td>\n",
       "      <td>4</td>\n",
       "      <td>2</td>\n",
       "      <td>NE</td>\n",
       "    </tr>\n",
       "    <tr>\n",
       "      <th>24-10-2021</th>\n",
       "      <td>23.6</td>\n",
       "      <td>30.8</td>\n",
       "      <td>25.8</td>\n",
       "      <td>89</td>\n",
       "      <td>9.6</td>\n",
       "      <td>3</td>\n",
       "      <td>2</td>\n",
       "      <td>NE</td>\n",
       "    </tr>\n",
       "    <tr>\n",
       "      <th>28-10-2021</th>\n",
       "      <td>25.0</td>\n",
       "      <td>31.8</td>\n",
       "      <td>26.9</td>\n",
       "      <td>86</td>\n",
       "      <td>0.0</td>\n",
       "      <td>4</td>\n",
       "      <td>2</td>\n",
       "      <td>NE</td>\n",
       "    </tr>\n",
       "    <tr>\n",
       "      <th>29-10-2021</th>\n",
       "      <td>24.6</td>\n",
       "      <td>33.0</td>\n",
       "      <td>27.8</td>\n",
       "      <td>82</td>\n",
       "      <td>5.7</td>\n",
       "      <td>4</td>\n",
       "      <td>2</td>\n",
       "      <td>C</td>\n",
       "    </tr>\n",
       "    <tr>\n",
       "      <th>30-10-2021</th>\n",
       "      <td>25.0</td>\n",
       "      <td>32.4</td>\n",
       "      <td>27.6</td>\n",
       "      <td>84</td>\n",
       "      <td>3.7</td>\n",
       "      <td>4</td>\n",
       "      <td>2</td>\n",
       "      <td>N</td>\n",
       "    </tr>\n",
       "    <tr>\n",
       "      <th>31-10-2021</th>\n",
       "      <td>23.8</td>\n",
       "      <td>30.2</td>\n",
       "      <td>26.2</td>\n",
       "      <td>88</td>\n",
       "      <td>6.2</td>\n",
       "      <td>4</td>\n",
       "      <td>2</td>\n",
       "      <td>NE</td>\n",
       "    </tr>\n",
       "  </tbody>\n",
       "</table>\n",
       "</div>"
      ],
      "text/plain": [
       "              Tn    Tx  Tavg  RH_avg   ss  ff_x  ff_avg ddd_car\n",
       "Tanggal                                                        \n",
       "01-10-2021  25.4  31.4  27.8      76  7.3     6       2      SW\n",
       "01-11-2021  24.0  31.6  27.1      84  2.3     4       2      NE\n",
       "03-10-2021  25.6  33.2  28.5      82  4.4     5       2      NE\n",
       "04-10-2021  23.8  33.6  27.6      78  9.2     6       2      NE\n",
       "05-10-2021  25.0  31.2  27.4      87  8.6     4       2      W \n",
       "06-10-2021  25.0  31.6  27.5      79  0.7     5       2      C \n",
       "07-10-2021  25.0  34.0  27.6      82  1.0     4       2      C \n",
       "08-10-2021  24.6  35.2  28.3      82  5.0     4       2      NE\n",
       "09-10-2021  24.8  32.6  28.0      84  5.0     4       2      NE\n",
       "10-10-2021  25.4  32.8  28.3      85  8.5     4       2      NE\n",
       "11-10-2021  24.0  35.2  28.2      76  6.6     5       2      C \n",
       "12-10-2021  25.0  34.4  28.4      81  8.3     6       2      C \n",
       "14-10-2021  25.0  34.6  28.6      81  9.2     4       2      E \n",
       "16-10-2021  25.0  34.0  28.2      80  9.7     6       2      C \n",
       "19-10-2021  23.8  31.4  27.7      83  5.8     5       2      NE\n",
       "23-10-2021  24.4  32.2  27.3      82  7.3     4       2      NE\n",
       "24-10-2021  23.6  30.8  25.8      89  9.6     3       2      NE\n",
       "28-10-2021  25.0  31.8  26.9      86  0.0     4       2      NE\n",
       "29-10-2021  24.6  33.0  27.8      82  5.7     4       2      C \n",
       "30-10-2021  25.0  32.4  27.6      84  3.7     4       2      N \n",
       "31-10-2021  23.8  30.2  26.2      88  6.2     4       2      NE"
      ]
     },
     "execution_count": 53,
     "metadata": {},
     "output_type": "execute_result"
    }
   ],
   "source": [
    "df.sort_values(by=['Tanggal'])"
   ]
  },
  {
   "cell_type": "code",
   "execution_count": 54,
   "metadata": {},
   "outputs": [
    {
     "data": {
      "text/html": [
       "<div>\n",
       "<style scoped>\n",
       "    .dataframe tbody tr th:only-of-type {\n",
       "        vertical-align: middle;\n",
       "    }\n",
       "\n",
       "    .dataframe tbody tr th {\n",
       "        vertical-align: top;\n",
       "    }\n",
       "\n",
       "    .dataframe thead th {\n",
       "        text-align: right;\n",
       "    }\n",
       "</style>\n",
       "<table border=\"1\" class=\"dataframe\">\n",
       "  <thead>\n",
       "    <tr style=\"text-align: right;\">\n",
       "      <th></th>\n",
       "      <th>Tn</th>\n",
       "      <th>Tx</th>\n",
       "      <th>Tavg</th>\n",
       "      <th>RH_avg</th>\n",
       "      <th>ss</th>\n",
       "      <th>ff_x</th>\n",
       "      <th>ff_avg</th>\n",
       "      <th>ddd_car</th>\n",
       "    </tr>\n",
       "    <tr>\n",
       "      <th>Tanggal</th>\n",
       "      <th></th>\n",
       "      <th></th>\n",
       "      <th></th>\n",
       "      <th></th>\n",
       "      <th></th>\n",
       "      <th></th>\n",
       "      <th></th>\n",
       "      <th></th>\n",
       "    </tr>\n",
       "  </thead>\n",
       "  <tbody>\n",
       "    <tr>\n",
       "      <th>01-10-2021</th>\n",
       "      <td>25.4</td>\n",
       "      <td>31.4</td>\n",
       "      <td>27.8</td>\n",
       "      <td>76</td>\n",
       "      <td>7.3</td>\n",
       "      <td>6</td>\n",
       "      <td>2</td>\n",
       "      <td>SW</td>\n",
       "    </tr>\n",
       "    <tr>\n",
       "      <th>03-10-2021</th>\n",
       "      <td>25.6</td>\n",
       "      <td>33.2</td>\n",
       "      <td>28.5</td>\n",
       "      <td>82</td>\n",
       "      <td>4.4</td>\n",
       "      <td>5</td>\n",
       "      <td>2</td>\n",
       "      <td>NE</td>\n",
       "    </tr>\n",
       "    <tr>\n",
       "      <th>04-10-2021</th>\n",
       "      <td>23.8</td>\n",
       "      <td>33.6</td>\n",
       "      <td>27.6</td>\n",
       "      <td>78</td>\n",
       "      <td>9.2</td>\n",
       "      <td>6</td>\n",
       "      <td>2</td>\n",
       "      <td>NE</td>\n",
       "    </tr>\n",
       "    <tr>\n",
       "      <th>05-10-2021</th>\n",
       "      <td>25.0</td>\n",
       "      <td>31.2</td>\n",
       "      <td>27.4</td>\n",
       "      <td>87</td>\n",
       "      <td>8.6</td>\n",
       "      <td>4</td>\n",
       "      <td>2</td>\n",
       "      <td>W</td>\n",
       "    </tr>\n",
       "    <tr>\n",
       "      <th>06-10-2021</th>\n",
       "      <td>25.0</td>\n",
       "      <td>31.6</td>\n",
       "      <td>27.5</td>\n",
       "      <td>79</td>\n",
       "      <td>0.7</td>\n",
       "      <td>5</td>\n",
       "      <td>2</td>\n",
       "      <td>C</td>\n",
       "    </tr>\n",
       "    <tr>\n",
       "      <th>07-10-2021</th>\n",
       "      <td>25.0</td>\n",
       "      <td>34.0</td>\n",
       "      <td>27.6</td>\n",
       "      <td>82</td>\n",
       "      <td>1.0</td>\n",
       "      <td>4</td>\n",
       "      <td>2</td>\n",
       "      <td>C</td>\n",
       "    </tr>\n",
       "    <tr>\n",
       "      <th>08-10-2021</th>\n",
       "      <td>24.6</td>\n",
       "      <td>35.2</td>\n",
       "      <td>28.3</td>\n",
       "      <td>82</td>\n",
       "      <td>5.0</td>\n",
       "      <td>4</td>\n",
       "      <td>2</td>\n",
       "      <td>NE</td>\n",
       "    </tr>\n",
       "    <tr>\n",
       "      <th>09-10-2021</th>\n",
       "      <td>24.8</td>\n",
       "      <td>32.6</td>\n",
       "      <td>28.0</td>\n",
       "      <td>84</td>\n",
       "      <td>5.0</td>\n",
       "      <td>4</td>\n",
       "      <td>2</td>\n",
       "      <td>NE</td>\n",
       "    </tr>\n",
       "    <tr>\n",
       "      <th>10-10-2021</th>\n",
       "      <td>25.4</td>\n",
       "      <td>32.8</td>\n",
       "      <td>28.3</td>\n",
       "      <td>85</td>\n",
       "      <td>8.5</td>\n",
       "      <td>4</td>\n",
       "      <td>2</td>\n",
       "      <td>NE</td>\n",
       "    </tr>\n",
       "    <tr>\n",
       "      <th>11-10-2021</th>\n",
       "      <td>24.0</td>\n",
       "      <td>35.2</td>\n",
       "      <td>28.2</td>\n",
       "      <td>76</td>\n",
       "      <td>6.6</td>\n",
       "      <td>5</td>\n",
       "      <td>2</td>\n",
       "      <td>C</td>\n",
       "    </tr>\n",
       "    <tr>\n",
       "      <th>12-10-2021</th>\n",
       "      <td>25.0</td>\n",
       "      <td>34.4</td>\n",
       "      <td>28.4</td>\n",
       "      <td>81</td>\n",
       "      <td>8.3</td>\n",
       "      <td>6</td>\n",
       "      <td>2</td>\n",
       "      <td>C</td>\n",
       "    </tr>\n",
       "    <tr>\n",
       "      <th>14-10-2021</th>\n",
       "      <td>25.0</td>\n",
       "      <td>34.6</td>\n",
       "      <td>28.6</td>\n",
       "      <td>81</td>\n",
       "      <td>9.2</td>\n",
       "      <td>4</td>\n",
       "      <td>2</td>\n",
       "      <td>E</td>\n",
       "    </tr>\n",
       "    <tr>\n",
       "      <th>16-10-2021</th>\n",
       "      <td>25.0</td>\n",
       "      <td>34.0</td>\n",
       "      <td>28.2</td>\n",
       "      <td>80</td>\n",
       "      <td>9.7</td>\n",
       "      <td>6</td>\n",
       "      <td>2</td>\n",
       "      <td>C</td>\n",
       "    </tr>\n",
       "    <tr>\n",
       "      <th>19-10-2021</th>\n",
       "      <td>23.8</td>\n",
       "      <td>31.4</td>\n",
       "      <td>27.7</td>\n",
       "      <td>83</td>\n",
       "      <td>5.8</td>\n",
       "      <td>5</td>\n",
       "      <td>2</td>\n",
       "      <td>NE</td>\n",
       "    </tr>\n",
       "    <tr>\n",
       "      <th>23-10-2021</th>\n",
       "      <td>24.4</td>\n",
       "      <td>32.2</td>\n",
       "      <td>27.3</td>\n",
       "      <td>82</td>\n",
       "      <td>7.3</td>\n",
       "      <td>4</td>\n",
       "      <td>2</td>\n",
       "      <td>NE</td>\n",
       "    </tr>\n",
       "    <tr>\n",
       "      <th>24-10-2021</th>\n",
       "      <td>23.6</td>\n",
       "      <td>30.8</td>\n",
       "      <td>25.8</td>\n",
       "      <td>89</td>\n",
       "      <td>9.6</td>\n",
       "      <td>3</td>\n",
       "      <td>2</td>\n",
       "      <td>NE</td>\n",
       "    </tr>\n",
       "    <tr>\n",
       "      <th>28-10-2021</th>\n",
       "      <td>25.0</td>\n",
       "      <td>31.8</td>\n",
       "      <td>26.9</td>\n",
       "      <td>86</td>\n",
       "      <td>0.0</td>\n",
       "      <td>4</td>\n",
       "      <td>2</td>\n",
       "      <td>NE</td>\n",
       "    </tr>\n",
       "    <tr>\n",
       "      <th>29-10-2021</th>\n",
       "      <td>24.6</td>\n",
       "      <td>33.0</td>\n",
       "      <td>27.8</td>\n",
       "      <td>82</td>\n",
       "      <td>5.7</td>\n",
       "      <td>4</td>\n",
       "      <td>2</td>\n",
       "      <td>C</td>\n",
       "    </tr>\n",
       "    <tr>\n",
       "      <th>30-10-2021</th>\n",
       "      <td>25.0</td>\n",
       "      <td>32.4</td>\n",
       "      <td>27.6</td>\n",
       "      <td>84</td>\n",
       "      <td>3.7</td>\n",
       "      <td>4</td>\n",
       "      <td>2</td>\n",
       "      <td>N</td>\n",
       "    </tr>\n",
       "    <tr>\n",
       "      <th>31-10-2021</th>\n",
       "      <td>23.8</td>\n",
       "      <td>30.2</td>\n",
       "      <td>26.2</td>\n",
       "      <td>88</td>\n",
       "      <td>6.2</td>\n",
       "      <td>4</td>\n",
       "      <td>2</td>\n",
       "      <td>NE</td>\n",
       "    </tr>\n",
       "    <tr>\n",
       "      <th>01-11-2021</th>\n",
       "      <td>24.0</td>\n",
       "      <td>31.6</td>\n",
       "      <td>27.1</td>\n",
       "      <td>84</td>\n",
       "      <td>2.3</td>\n",
       "      <td>4</td>\n",
       "      <td>2</td>\n",
       "      <td>NE</td>\n",
       "    </tr>\n",
       "  </tbody>\n",
       "</table>\n",
       "</div>"
      ],
      "text/plain": [
       "              Tn    Tx  Tavg  RH_avg   ss  ff_x  ff_avg ddd_car\n",
       "Tanggal                                                        \n",
       "01-10-2021  25.4  31.4  27.8      76  7.3     6       2      SW\n",
       "03-10-2021  25.6  33.2  28.5      82  4.4     5       2      NE\n",
       "04-10-2021  23.8  33.6  27.6      78  9.2     6       2      NE\n",
       "05-10-2021  25.0  31.2  27.4      87  8.6     4       2      W \n",
       "06-10-2021  25.0  31.6  27.5      79  0.7     5       2      C \n",
       "07-10-2021  25.0  34.0  27.6      82  1.0     4       2      C \n",
       "08-10-2021  24.6  35.2  28.3      82  5.0     4       2      NE\n",
       "09-10-2021  24.8  32.6  28.0      84  5.0     4       2      NE\n",
       "10-10-2021  25.4  32.8  28.3      85  8.5     4       2      NE\n",
       "11-10-2021  24.0  35.2  28.2      76  6.6     5       2      C \n",
       "12-10-2021  25.0  34.4  28.4      81  8.3     6       2      C \n",
       "14-10-2021  25.0  34.6  28.6      81  9.2     4       2      E \n",
       "16-10-2021  25.0  34.0  28.2      80  9.7     6       2      C \n",
       "19-10-2021  23.8  31.4  27.7      83  5.8     5       2      NE\n",
       "23-10-2021  24.4  32.2  27.3      82  7.3     4       2      NE\n",
       "24-10-2021  23.6  30.8  25.8      89  9.6     3       2      NE\n",
       "28-10-2021  25.0  31.8  26.9      86  0.0     4       2      NE\n",
       "29-10-2021  24.6  33.0  27.8      82  5.7     4       2      C \n",
       "30-10-2021  25.0  32.4  27.6      84  3.7     4       2      N \n",
       "31-10-2021  23.8  30.2  26.2      88  6.2     4       2      NE\n",
       "01-11-2021  24.0  31.6  27.1      84  2.3     4       2      NE"
      ]
     },
     "execution_count": 54,
     "metadata": {},
     "output_type": "execute_result"
    }
   ],
   "source": [
    "df"
   ]
  },
  {
   "cell_type": "markdown",
   "metadata": {},
   "source": [
    "# Eksplorasi Data"
   ]
  },
  {
   "cell_type": "code",
   "execution_count": 55,
   "metadata": {},
   "outputs": [
    {
     "data": {
      "text/plain": [
       "Text(0.5, 1.0, 'General Statistics of Iris Dataset')"
      ]
     },
     "execution_count": 55,
     "metadata": {},
     "output_type": "execute_result"
    },
    {
     "data": {
      "image/png": "[encoded data removed]",
      "text/plain": [
       "<Figure size 1080x576 with 1 Axes>"
      ]
     },
     "metadata": {
      "needs_background": "light"
     },
     "output_type": "display_data"
    }
   ],
   "source": [
    "df.describe().plot(kind = \"area\", figsize = (15,8), colormap=\"coolwarm\")\n",
    "plt.xlabel('Statistics',fontsize=14)\n",
    "plt.ylabel('Value',fontsize=14)\n",
    "plt.title(\"General Statistics of Iris Dataset\",fontsize=18)"
   ]
  },
  {
   "cell_type": "code",
   "execution_count": 56,
   "metadata": {},
   "outputs": [
    {
     "data": {
      "text/plain": [
       "Text(0.5, 1.0, 'Arah Angin Terbanyak')"
      ]
     },
     "execution_count": 56,
     "metadata": {},
     "output_type": "execute_result"
    },
    {
     "data": {
      "image/png": "[encoded data removed]",
      "text/plain": [
       "<Figure size 1296x576 with 2 Axes>"
      ]
     },
     "metadata": {
      "needs_background": "light"
     },
     "output_type": "display_data"
    }
   ],
   "source": [
    "f,ax=plt.subplots(1,2,figsize=(18,8))\n",
    "df['ddd_car'].value_counts().plot.pie(explode=[0.1,0.1,0.1,0.1,0.1,0.1],autopct='%1.1f%%',ax=ax[0],shadow=True)\n",
    "ax[0].set_title('Arah Angin Terbanyak')\n",
    "ax[0].set_ylabel('Arah Angin Terbanyak')\n",
    "sns.countplot('ddd_car',data=df,ax=ax[1])\n",
    "ax[1].set_title('Arah Angin Terbanyak')"
   ]
  },
  {
   "cell_type": "code",
   "execution_count": 57,
   "metadata": {},
   "outputs": [
    {
     "data": {
      "text/plain": [
       "<seaborn.axisgrid.JointGrid at 0x1e256842a30>"
      ]
     },
     "execution_count": 57,
     "metadata": {},
     "output_type": "execute_result"
    },
    {
     "data": {
      "image/png": "[encoded data removed]",
      "text/plain": [
       "<Figure size 432x432 with 3 Axes>"
      ]
     },
     "metadata": {
      "needs_background": "light"
     },
     "output_type": "display_data"
    },
    {
     "data": {
      "image/png": "[encoded data removed]",
      "text/plain": [
       "<Figure size 432x432 with 3 Axes>"
      ]
     },
     "metadata": {
      "needs_background": "light"
     },
     "output_type": "display_data"
    }
   ],
   "source": [
    "sns.jointplot(x='Tavg',y='ss',data=df)\n",
    "sns.jointplot(x='RH_avg',y='ff_x',data=df)"
   ]
  },
  {
   "cell_type": "code",
   "execution_count": 58,
   "metadata": {},
   "outputs": [
    {
     "data": {
      "text/plain": [
       "<seaborn.axisgrid.JointGrid at 0x1e2569c7070>"
      ]
     },
     "execution_count": 58,
     "metadata": {},
     "output_type": "execute_result"
    },
    {
     "data": {
      "image/png": "[encoded data removed]",
      "text/plain": [
       "<Figure size 432x432 with 3 Axes>"
      ]
     },
     "metadata": {
      "needs_background": "light"
     },
     "output_type": "display_data"
    },
    {
     "data": {
      "image/png": "[encoded data removed]",
      "text/plain": [
       "<Figure size 432x432 with 3 Axes>"
      ]
     },
     "metadata": {
      "needs_background": "light"
     },
     "output_type": "display_data"
    }
   ],
   "source": [
    "sns.jointplot('Tavg','ss',kind='hex',data=df)\n",
    "sns.jointplot('RH_avg','ff_x',kind='hex',data=df)"
   ]
  },
  {
   "cell_type": "code",
   "execution_count": 59,
   "metadata": {},
   "outputs": [
    {
     "data": {
      "text/plain": [
       "<seaborn.axisgrid.JointGrid at 0x1e25666a220>"
      ]
     },
     "execution_count": 59,
     "metadata": {},
     "output_type": "execute_result"
    },
    {
     "data": {
      "image/png": "[encoded data removed]",
      "text/plain": [
       "<Figure size 432x432 with 3 Axes>"
      ]
     },
     "metadata": {
      "needs_background": "light"
     },
     "output_type": "display_data"
    },
    {
     "data": {
      "image/png": "[encoded data removed]",
      "text/plain": [
       "<Figure size 432x432 with 3 Axes>"
      ]
     },
     "metadata": {
      "needs_background": "light"
     },
     "output_type": "display_data"
    }
   ],
   "source": [
    "sns.jointplot('Tavg','ss', data=df, kind='reg')\n",
    "sns.jointplot('RH_avg','ff_x', data=df, kind='reg')"
   ]
  },
  {
   "cell_type": "code",
   "execution_count": 60,
   "metadata": {},
   "outputs": [
    {
     "data": {
      "image/png": "[encoded data removed]",
      "text/plain": [
       "<Figure size 720x504 with 1 Axes>"
      ]
     },
     "metadata": {
      "needs_background": "light"
     },
     "output_type": "display_data"
    }
   ],
   "source": [
    "fig=plt.gcf()\n",
    "fig.set_size_inches(10,7)\n",
    "fig=sns.boxplot(x='ddd_car',y='Tavg',\n",
    "                data=df,order=['C','E','N','NE','SW','W'],linewidth=2.5,orient='v',dodge=False)"
   ]
  },
  {
   "cell_type": "code",
   "execution_count": 61,
   "metadata": {},
   "outputs": [
    {
     "data": {
      "image/png": "[encoded data removed]",
      "text/plain": [
       "<Figure size 720x504 with 1 Axes>"
      ]
     },
     "metadata": {
      "needs_background": "light"
     },
     "output_type": "display_data"
    }
   ],
   "source": [
    "fig=plt.gcf()\n",
    "fig.set_size_inches(10,7)\n",
    "fig=sns.boxplot(x='ddd_car',y='RH_avg',\n",
    "                data=df,order=['C','E','N','NE','SW','W'],linewidth=2.5,orient='v',dodge=False)"
   ]
  },
  {
   "cell_type": "code",
   "execution_count": 62,
   "metadata": {},
   "outputs": [
    {
     "data": {
      "image/png": "[encoded data removed]",
      "text/plain": [
       "<Figure size 720x504 with 1 Axes>"
      ]
     },
     "metadata": {
      "needs_background": "light"
     },
     "output_type": "display_data"
    }
   ],
   "source": [
    "fig=plt.gcf()\n",
    "fig.set_size_inches(10,7)\n",
    "fig=sns.boxplot(x='ddd_car',y='ss',\n",
    "                data=df,order=['C','E','N','NE','SW','W'],linewidth=2.5,orient='v',dodge=False)"
   ]
  },
  {
   "cell_type": "code",
   "execution_count": 63,
   "metadata": {},
   "outputs": [
    {
     "data": {
      "image/png": "[encoded data removed]",
      "text/plain": [
       "<Figure size 720x504 with 1 Axes>"
      ]
     },
     "metadata": {
      "needs_background": "light"
     },
     "output_type": "display_data"
    }
   ],
   "source": [
    "fig=plt.gcf()\n",
    "fig.set_size_inches(10,7)\n",
    "fig=sns.boxplot(x='ddd_car',y='ff_x',\n",
    "                data=df,order=['C','E','N','NE','SW','W'],linewidth=2.5,orient='v',dodge=False)"
   ]
  },
  {
   "cell_type": "code",
   "execution_count": 64,
   "metadata": {},
   "outputs": [
    {
     "data": {
      "image/png": "[encoded data removed]",
      "text/plain": [
       "<Figure size 864x432 with 9 Axes>"
      ]
     },
     "metadata": {
      "needs_background": "light"
     },
     "output_type": "display_data"
    }
   ],
   "source": [
    "df.boxplot(by=\"ddd_car\", figsize=(12, 6))\n",
    "pass"
   ]
  },
  {
   "cell_type": "code",
   "execution_count": 65,
   "metadata": {},
   "outputs": [
    {
     "data": {
      "text/plain": [
       "<AxesSubplot:xlabel='ddd_car', ylabel='ss'>"
      ]
     },
     "execution_count": 65,
     "metadata": {},
     "output_type": "execute_result"
    },
    {
     "data": {
      "image/png": "[encoded data removed]",
      "text/plain": [
       "<Figure size 1080x720 with 6 Axes>"
      ]
     },
     "metadata": {
      "needs_background": "light"
     },
     "output_type": "display_data"
    }
   ],
   "source": [
    "plt.figure(figsize=(15,10))\n",
    "plt.subplot(3,3,1)\n",
    "sns.violinplot(x='ddd_car',y='RH_avg',data=df)\n",
    "plt.subplot(3,3,2)\n",
    "sns.violinplot(x='ddd_car',y='Tavg',data=df)\n",
    "plt.subplot(3,3,3)\n",
    "sns.violinplot(x='ddd_car',y='Tn',data=df)\n",
    "plt.subplot(3,3,4)\n",
    "sns.violinplot(x='ddd_car',y='Tx',data=df)\n",
    "#plt.subplot(3,3,5)\n",
    "#sns.violinplot(x='ddd_car',y='ff_avg',data=df) --> ff_avg tidak dilihat karena besar semua nilai adalah 2\n",
    "plt.subplot(3,3,5)\n",
    "sns.violinplot(x='ddd_car',y='ff_x',data=df)\n",
    "plt.subplot(3,3,6)\n",
    "sns.violinplot(x='ddd_car',y='ss',data=df)"
   ]
  },
  {
   "cell_type": "code",
   "execution_count": 66,
   "metadata": {},
   "outputs": [
    {
     "data": {
      "text/plain": [
       "<seaborn.axisgrid.PairGrid at 0x1e256d4e460>"
      ]
     },
     "execution_count": 66,
     "metadata": {},
     "output_type": "execute_result"
    },
    {
     "data": {
      "image/png": "[encoded data removed]",
      "text/plain": [
       "<Figure size 1260x1260 with 56 Axes>"
      ]
     },
     "metadata": {
      "needs_background": "light"
     },
     "output_type": "display_data"
    }
   ],
   "source": [
    "sns.pairplot(data=df,kind='scatter')"
   ]
  },
  {
   "cell_type": "code",
   "execution_count": 67,
   "metadata": {},
   "outputs": [
    {
     "data": {
      "image/png": "[encoded data removed]",
      "text/plain": [
       "<Figure size 720x504 with 2 Axes>"
      ]
     },
     "metadata": {
      "needs_background": "light"
     },
     "output_type": "display_data"
    }
   ],
   "source": [
    "fig=plt.gcf()\n",
    "fig.set_size_inches(10,7)\n",
    "fig=sns.heatmap(df.corr(),annot=True,cmap='coolwarm',linewidths=1,linecolor='k',\n",
    "                square=True,mask=False, vmin=-1, vmax=1,cbar_kws={\"orientation\": \"vertical\"},cbar=True)"
   ]
  },
  {
   "cell_type": "code",
   "execution_count": 68,
   "metadata": {},
   "outputs": [
    {
     "data": {
      "image/png": "[encoded data removed]",
      "text/plain": [
       "<Figure size 864x432 with 9 Axes>"
      ]
     },
     "metadata": {
      "needs_background": "light"
     },
     "output_type": "display_data"
    }
   ],
   "source": [
    "df.hist(linewidth=1.2)\n",
    "fig=plt.gcf()\n",
    "fig.set_size_inches(12,6)"
   ]
  },
  {
   "cell_type": "code",
   "execution_count": 69,
   "metadata": {},
   "outputs": [
    {
     "data": {
      "image/png": "[encoded data removed]",
      "text/plain": [
       "<Figure size 864x432 with 1 Axes>"
      ]
     },
     "metadata": {
      "needs_background": "light"
     },
     "output_type": "display_data"
    }
   ],
   "source": [
    "df.plot.area(y=['RH_avg','Tn','Tx','Tavg','ff_avg','ff_x','ss'],alpha=0.4,figsize=(12, 6));"
   ]
  },
  {
   "cell_type": "markdown",
   "metadata": {},
   "source": [
    "# Tugas Akhir 4: Membangun Model"
   ]
  },
  {
   "cell_type": "code",
   "execution_count": 70,
   "metadata": {},
   "outputs": [],
   "source": [
    "#Metrics\n",
    "from sklearn.metrics import make_scorer, accuracy_score,precision_score\n",
    "from sklearn.metrics import classification_report\n",
    "\n",
    "# Import libarary confusion matrix\n",
    "from sklearn.metrics import confusion_matrix\n",
    "\n",
    "from sklearn.metrics import accuracy_score ,precision_score,recall_score,f1_score\n",
    "\n",
    "#Model Select\n",
    "from sklearn.model_selection import KFold,train_test_split,cross_val_score\n",
    "from sklearn.model_selection import train_test_split\n",
    "\n",
    "# Import libarary Logistic Regression\n",
    "from sklearn.linear_model import  LogisticRegression\n",
    "\n",
    "from sklearn import linear_model\n",
    "from sklearn.linear_model import SGDClassifier\n",
    "\n",
    "# Import libarary KNN\n",
    "from sklearn.neighbors import KNeighborsClassifier\n",
    "\n",
    "# Import libarary Support Vector Machines dan linier Support Vector Machines\n",
    "from sklearn.svm import SVC, LinearSVC\n",
    "\n",
    "# Import libarary Gaussian Naive Bayes\n",
    "from sklearn.naive_bayes import GaussianNB"
   ]
  },
  {
   "cell_type": "code",
   "execution_count": 71,
   "metadata": {},
   "outputs": [
    {
     "data": {
      "text/html": [
       "<div>\n",
       "<style scoped>\n",
       "    .dataframe tbody tr th:only-of-type {\n",
       "        vertical-align: middle;\n",
       "    }\n",
       "\n",
       "    .dataframe tbody tr th {\n",
       "        vertical-align: top;\n",
       "    }\n",
       "\n",
       "    .dataframe thead th {\n",
       "        text-align: right;\n",
       "    }\n",
       "</style>\n",
       "<table border=\"1\" class=\"dataframe\">\n",
       "  <thead>\n",
       "    <tr style=\"text-align: right;\">\n",
       "      <th></th>\n",
       "      <th>Tn</th>\n",
       "      <th>Tx</th>\n",
       "      <th>Tavg</th>\n",
       "      <th>RH_avg</th>\n",
       "      <th>ss</th>\n",
       "      <th>ff_x</th>\n",
       "      <th>ff_avg</th>\n",
       "      <th>ddd_car</th>\n",
       "    </tr>\n",
       "    <tr>\n",
       "      <th>Tanggal</th>\n",
       "      <th></th>\n",
       "      <th></th>\n",
       "      <th></th>\n",
       "      <th></th>\n",
       "      <th></th>\n",
       "      <th></th>\n",
       "      <th></th>\n",
       "      <th></th>\n",
       "    </tr>\n",
       "  </thead>\n",
       "  <tbody>\n",
       "    <tr>\n",
       "      <th>01-10-2021</th>\n",
       "      <td>25.4</td>\n",
       "      <td>31.4</td>\n",
       "      <td>27.8</td>\n",
       "      <td>76</td>\n",
       "      <td>7.3</td>\n",
       "      <td>6</td>\n",
       "      <td>2</td>\n",
       "      <td>SW</td>\n",
       "    </tr>\n",
       "    <tr>\n",
       "      <th>03-10-2021</th>\n",
       "      <td>25.6</td>\n",
       "      <td>33.2</td>\n",
       "      <td>28.5</td>\n",
       "      <td>82</td>\n",
       "      <td>4.4</td>\n",
       "      <td>5</td>\n",
       "      <td>2</td>\n",
       "      <td>NE</td>\n",
       "    </tr>\n",
       "    <tr>\n",
       "      <th>04-10-2021</th>\n",
       "      <td>23.8</td>\n",
       "      <td>33.6</td>\n",
       "      <td>27.6</td>\n",
       "      <td>78</td>\n",
       "      <td>9.2</td>\n",
       "      <td>6</td>\n",
       "      <td>2</td>\n",
       "      <td>NE</td>\n",
       "    </tr>\n",
       "    <tr>\n",
       "      <th>05-10-2021</th>\n",
       "      <td>25.0</td>\n",
       "      <td>31.2</td>\n",
       "      <td>27.4</td>\n",
       "      <td>87</td>\n",
       "      <td>8.6</td>\n",
       "      <td>4</td>\n",
       "      <td>2</td>\n",
       "      <td>W</td>\n",
       "    </tr>\n",
       "    <tr>\n",
       "      <th>06-10-2021</th>\n",
       "      <td>25.0</td>\n",
       "      <td>31.6</td>\n",
       "      <td>27.5</td>\n",
       "      <td>79</td>\n",
       "      <td>0.7</td>\n",
       "      <td>5</td>\n",
       "      <td>2</td>\n",
       "      <td>C</td>\n",
       "    </tr>\n",
       "    <tr>\n",
       "      <th>07-10-2021</th>\n",
       "      <td>25.0</td>\n",
       "      <td>34.0</td>\n",
       "      <td>27.6</td>\n",
       "      <td>82</td>\n",
       "      <td>1.0</td>\n",
       "      <td>4</td>\n",
       "      <td>2</td>\n",
       "      <td>C</td>\n",
       "    </tr>\n",
       "    <tr>\n",
       "      <th>08-10-2021</th>\n",
       "      <td>24.6</td>\n",
       "      <td>35.2</td>\n",
       "      <td>28.3</td>\n",
       "      <td>82</td>\n",
       "      <td>5.0</td>\n",
       "      <td>4</td>\n",
       "      <td>2</td>\n",
       "      <td>NE</td>\n",
       "    </tr>\n",
       "    <tr>\n",
       "      <th>09-10-2021</th>\n",
       "      <td>24.8</td>\n",
       "      <td>32.6</td>\n",
       "      <td>28.0</td>\n",
       "      <td>84</td>\n",
       "      <td>5.0</td>\n",
       "      <td>4</td>\n",
       "      <td>2</td>\n",
       "      <td>NE</td>\n",
       "    </tr>\n",
       "    <tr>\n",
       "      <th>10-10-2021</th>\n",
       "      <td>25.4</td>\n",
       "      <td>32.8</td>\n",
       "      <td>28.3</td>\n",
       "      <td>85</td>\n",
       "      <td>8.5</td>\n",
       "      <td>4</td>\n",
       "      <td>2</td>\n",
       "      <td>NE</td>\n",
       "    </tr>\n",
       "    <tr>\n",
       "      <th>11-10-2021</th>\n",
       "      <td>24.0</td>\n",
       "      <td>35.2</td>\n",
       "      <td>28.2</td>\n",
       "      <td>76</td>\n",
       "      <td>6.6</td>\n",
       "      <td>5</td>\n",
       "      <td>2</td>\n",
       "      <td>C</td>\n",
       "    </tr>\n",
       "    <tr>\n",
       "      <th>12-10-2021</th>\n",
       "      <td>25.0</td>\n",
       "      <td>34.4</td>\n",
       "      <td>28.4</td>\n",
       "      <td>81</td>\n",
       "      <td>8.3</td>\n",
       "      <td>6</td>\n",
       "      <td>2</td>\n",
       "      <td>C</td>\n",
       "    </tr>\n",
       "    <tr>\n",
       "      <th>14-10-2021</th>\n",
       "      <td>25.0</td>\n",
       "      <td>34.6</td>\n",
       "      <td>28.6</td>\n",
       "      <td>81</td>\n",
       "      <td>9.2</td>\n",
       "      <td>4</td>\n",
       "      <td>2</td>\n",
       "      <td>E</td>\n",
       "    </tr>\n",
       "    <tr>\n",
       "      <th>16-10-2021</th>\n",
       "      <td>25.0</td>\n",
       "      <td>34.0</td>\n",
       "      <td>28.2</td>\n",
       "      <td>80</td>\n",
       "      <td>9.7</td>\n",
       "      <td>6</td>\n",
       "      <td>2</td>\n",
       "      <td>C</td>\n",
       "    </tr>\n",
       "    <tr>\n",
       "      <th>19-10-2021</th>\n",
       "      <td>23.8</td>\n",
       "      <td>31.4</td>\n",
       "      <td>27.7</td>\n",
       "      <td>83</td>\n",
       "      <td>5.8</td>\n",
       "      <td>5</td>\n",
       "      <td>2</td>\n",
       "      <td>NE</td>\n",
       "    </tr>\n",
       "    <tr>\n",
       "      <th>23-10-2021</th>\n",
       "      <td>24.4</td>\n",
       "      <td>32.2</td>\n",
       "      <td>27.3</td>\n",
       "      <td>82</td>\n",
       "      <td>7.3</td>\n",
       "      <td>4</td>\n",
       "      <td>2</td>\n",
       "      <td>NE</td>\n",
       "    </tr>\n",
       "    <tr>\n",
       "      <th>24-10-2021</th>\n",
       "      <td>23.6</td>\n",
       "      <td>30.8</td>\n",
       "      <td>25.8</td>\n",
       "      <td>89</td>\n",
       "      <td>9.6</td>\n",
       "      <td>3</td>\n",
       "      <td>2</td>\n",
       "      <td>NE</td>\n",
       "    </tr>\n",
       "    <tr>\n",
       "      <th>28-10-2021</th>\n",
       "      <td>25.0</td>\n",
       "      <td>31.8</td>\n",
       "      <td>26.9</td>\n",
       "      <td>86</td>\n",
       "      <td>0.0</td>\n",
       "      <td>4</td>\n",
       "      <td>2</td>\n",
       "      <td>NE</td>\n",
       "    </tr>\n",
       "    <tr>\n",
       "      <th>29-10-2021</th>\n",
       "      <td>24.6</td>\n",
       "      <td>33.0</td>\n",
       "      <td>27.8</td>\n",
       "      <td>82</td>\n",
       "      <td>5.7</td>\n",
       "      <td>4</td>\n",
       "      <td>2</td>\n",
       "      <td>C</td>\n",
       "    </tr>\n",
       "    <tr>\n",
       "      <th>30-10-2021</th>\n",
       "      <td>25.0</td>\n",
       "      <td>32.4</td>\n",
       "      <td>27.6</td>\n",
       "      <td>84</td>\n",
       "      <td>3.7</td>\n",
       "      <td>4</td>\n",
       "      <td>2</td>\n",
       "      <td>N</td>\n",
       "    </tr>\n",
       "    <tr>\n",
       "      <th>31-10-2021</th>\n",
       "      <td>23.8</td>\n",
       "      <td>30.2</td>\n",
       "      <td>26.2</td>\n",
       "      <td>88</td>\n",
       "      <td>6.2</td>\n",
       "      <td>4</td>\n",
       "      <td>2</td>\n",
       "      <td>NE</td>\n",
       "    </tr>\n",
       "    <tr>\n",
       "      <th>01-11-2021</th>\n",
       "      <td>24.0</td>\n",
       "      <td>31.6</td>\n",
       "      <td>27.1</td>\n",
       "      <td>84</td>\n",
       "      <td>2.3</td>\n",
       "      <td>4</td>\n",
       "      <td>2</td>\n",
       "      <td>NE</td>\n",
       "    </tr>\n",
       "  </tbody>\n",
       "</table>\n",
       "</div>"
      ],
      "text/plain": [
       "              Tn    Tx  Tavg  RH_avg   ss  ff_x  ff_avg ddd_car\n",
       "Tanggal                                                        \n",
       "01-10-2021  25.4  31.4  27.8      76  7.3     6       2      SW\n",
       "03-10-2021  25.6  33.2  28.5      82  4.4     5       2      NE\n",
       "04-10-2021  23.8  33.6  27.6      78  9.2     6       2      NE\n",
       "05-10-2021  25.0  31.2  27.4      87  8.6     4       2      W \n",
       "06-10-2021  25.0  31.6  27.5      79  0.7     5       2      C \n",
       "07-10-2021  25.0  34.0  27.6      82  1.0     4       2      C \n",
       "08-10-2021  24.6  35.2  28.3      82  5.0     4       2      NE\n",
       "09-10-2021  24.8  32.6  28.0      84  5.0     4       2      NE\n",
       "10-10-2021  25.4  32.8  28.3      85  8.5     4       2      NE\n",
       "11-10-2021  24.0  35.2  28.2      76  6.6     5       2      C \n",
       "12-10-2021  25.0  34.4  28.4      81  8.3     6       2      C \n",
       "14-10-2021  25.0  34.6  28.6      81  9.2     4       2      E \n",
       "16-10-2021  25.0  34.0  28.2      80  9.7     6       2      C \n",
       "19-10-2021  23.8  31.4  27.7      83  5.8     5       2      NE\n",
       "23-10-2021  24.4  32.2  27.3      82  7.3     4       2      NE\n",
       "24-10-2021  23.6  30.8  25.8      89  9.6     3       2      NE\n",
       "28-10-2021  25.0  31.8  26.9      86  0.0     4       2      NE\n",
       "29-10-2021  24.6  33.0  27.8      82  5.7     4       2      C \n",
       "30-10-2021  25.0  32.4  27.6      84  3.7     4       2      N \n",
       "31-10-2021  23.8  30.2  26.2      88  6.2     4       2      NE\n",
       "01-11-2021  24.0  31.6  27.1      84  2.3     4       2      NE"
      ]
     },
     "execution_count": 71,
     "metadata": {},
     "output_type": "execute_result"
    }
   ],
   "source": [
    "df"
   ]
  },
  {
   "cell_type": "code",
   "execution_count": 72,
   "metadata": {},
   "outputs": [],
   "source": [
    "X=df.iloc[:,1:6].values\n",
    "y=df.iloc[:,7].values"
   ]
  },
  {
   "cell_type": "code",
   "execution_count": 73,
   "metadata": {},
   "outputs": [],
   "source": [
    "X_train,X_test,y_train,y_test=train_test_split(X,y,test_size=0.3,random_state=0)"
   ]
  },
  {
   "cell_type": "code",
   "execution_count": 95,
   "metadata": {},
   "outputs": [
    {
     "name": "stdout",
     "output_type": "stream",
     "text": [
      "Confusion matrix for KNN\n",
      " [[1 0 0]\n",
      " [1 0 0]\n",
      " [2 0 3]]\n",
      "accuracy_KNN : 0.571\n",
      "precision_KNN : 0.571\n",
      "recall_KNN: 0.571\n",
      "f1-score_KNN : 0.571\n"
     ]
    }
   ],
   "source": [
    "knn = KNeighborsClassifier(n_neighbors = 3)\n",
    "knn.fit(X_train, y_train)\n",
    "Y_pred = knn.predict(X_test) \n",
    "accuracy_knn=round(accuracy_score(y_test,Y_pred)* 100, 2)\n",
    "acc_knn = round(knn.score(X_train, y_train) * 100, 2)\n",
    "\n",
    "cm = confusion_matrix(y_test, Y_pred)\n",
    "accuracy = accuracy_score(y_test,Y_pred)\n",
    "precision =precision_score(y_test, Y_pred,average='micro')\n",
    "recall = recall_score(y_test, Y_pred,average='micro')\n",
    "f1 =f1_score(y_test,Y_pred,average='micro')\n",
    "print('Confusion matrix for KNN\\n',cm)\n",
    "print('accuracy_KNN : %.3f' %accuracy)\n",
    "print('precision_KNN : %.3f' %precision)\n",
    "print('recall_KNN: %.3f' %recall)\n",
    "print('f1-score_KNN : %.3f' %f1)"
   ]
  },
  {
   "cell_type": "code",
   "execution_count": 75,
   "metadata": {},
   "outputs": [
    {
     "name": "stdout",
     "output_type": "stream",
     "text": [
      "Confusion matrix for Naive Bayes\n",
      " [[1 0 0]\n",
      " [0 0 1]\n",
      " [1 0 4]]\n",
      "accuracy_Naive Bayes: 0.714\n",
      "precision_Naive Bayes: 0.714\n",
      "recall_Naive Bayes: 0.714\n",
      "f1-score_Naive Bayes : 0.714\n"
     ]
    }
   ],
   "source": [
    "gaussian = GaussianNB()\n",
    "gaussian.fit(X_train, y_train)\n",
    "Y_pred = gaussian.predict(X_test) \n",
    "accuracy_nb=round(accuracy_score(y_test,Y_pred)* 100, 2)\n",
    "acc_gaussian = round(gaussian.score(X_train, y_train) * 100, 2)\n",
    "\n",
    "cm = confusion_matrix(y_test,Y_pred)\n",
    "accuracy = accuracy_score(y_test,Y_pred)\n",
    "precision =precision_score(y_test, Y_pred,average='micro')\n",
    "recall =  recall_score(y_test, Y_pred,average='micro')\n",
    "f1 =f1_score(y_test,Y_pred,average='micro')\n",
    "print('Confusion matrix for Naive Bayes\\n',cm)\n",
    "print('accuracy_Naive Bayes: %.3f' %accuracy)\n",
    "print('precision_Naive Bayes: %.3f' %precision)\n",
    "print('recall_Naive Bayes: %.3f' %recall)\n",
    "print('f1-score_Naive Bayes : %.3f' %f1)"
   ]
  },
  {
   "cell_type": "code",
   "execution_count": 76,
   "metadata": {},
   "outputs": [
    {
     "name": "stdout",
     "output_type": "stream",
     "text": [
      "Confusion matrix for SVC\n",
      " [[0 0 1 0 0]\n",
      " [0 0 0 0 1]\n",
      " [0 0 3 1 1]\n",
      " [0 0 0 0 0]\n",
      " [0 0 0 0 0]]\n",
      "accuracy_SVC: 0.429\n",
      "precision_SVC: 0.429\n",
      "recall_SVC: 0.429\n",
      "f1-score_SVC : 0.429\n"
     ]
    }
   ],
   "source": [
    "linear_svc = LinearSVC(max_iter=4000)\n",
    "linear_svc.fit(X_train, y_train)\n",
    "Y_pred = linear_svc.predict(X_test)\n",
    "accuracy_svc=round(accuracy_score(y_test,Y_pred)* 100, 2)\n",
    "acc_linear_svc = round(linear_svc.score(X_train, y_train) * 100, 2)\n",
    "\n",
    "cm = confusion_matrix(y_test, Y_pred)\n",
    "accuracy = accuracy_score(y_test,Y_pred)\n",
    "precision =precision_score(y_test, Y_pred,average='micro')\n",
    "recall =  recall_score(y_test, Y_pred,average='micro')\n",
    "f1 = f1_score(y_test,Y_pred,average='micro')\n",
    "print('Confusion matrix for SVC\\n',cm)\n",
    "print('accuracy_SVC: %.3f' %accuracy)\n",
    "print('precision_SVC: %.3f' %precision)\n",
    "print('recall_SVC: %.3f' %recall)\n",
    "print('f1-score_SVC : %.3f' %f1)"
   ]
  },
  {
   "cell_type": "code",
   "execution_count": 97,
   "metadata": {},
   "outputs": [
    {
     "data": {
      "text/html": [
       "<div>\n",
       "<style scoped>\n",
       "    .dataframe tbody tr th:only-of-type {\n",
       "        vertical-align: middle;\n",
       "    }\n",
       "\n",
       "    .dataframe tbody tr th {\n",
       "        vertical-align: top;\n",
       "    }\n",
       "\n",
       "    .dataframe thead th {\n",
       "        text-align: right;\n",
       "    }\n",
       "</style>\n",
       "<table border=\"1\" class=\"dataframe\">\n",
       "  <thead>\n",
       "    <tr style=\"text-align: right;\">\n",
       "      <th></th>\n",
       "      <th>Model</th>\n",
       "      <th>Score</th>\n",
       "      <th>Accuracy_score</th>\n",
       "    </tr>\n",
       "  </thead>\n",
       "  <tbody>\n",
       "    <tr>\n",
       "      <th>0</th>\n",
       "      <td>Naive Bayes</td>\n",
       "      <td>85.71</td>\n",
       "      <td>71.43</td>\n",
       "    </tr>\n",
       "    <tr>\n",
       "      <th>1</th>\n",
       "      <td>KNN</td>\n",
       "      <td>50.00</td>\n",
       "      <td>57.14</td>\n",
       "    </tr>\n",
       "    <tr>\n",
       "      <th>2</th>\n",
       "      <td>Support Vector Machine</td>\n",
       "      <td>64.29</td>\n",
       "      <td>42.86</td>\n",
       "    </tr>\n",
       "  </tbody>\n",
       "</table>\n",
       "</div>"
      ],
      "text/plain": [
       "                     Model  Score  Accuracy_score\n",
       "0              Naive Bayes  85.71           71.43\n",
       "1                      KNN  50.00           57.14\n",
       "2   Support Vector Machine  64.29           42.86"
      ]
     },
     "execution_count": 97,
     "metadata": {},
     "output_type": "execute_result"
    }
   ],
   "source": [
    "# Ringkasan akurasi dari beberapa model yang dibangun\n",
    "results = pd.DataFrame({\n",
    "    'Model': ['KNN', \n",
    "              'Naive Bayes',  \n",
    "              ' Support Vector Machine'],\n",
    "    \n",
    "    'Score': [acc_knn,\n",
    "              acc_gaussian,  \n",
    "              acc_linear_svc],\n",
    "    \n",
    "    \"Accuracy_score\":[accuracy_knn,\n",
    "                      accuracy_nb,\n",
    "                      accuracy_svc\n",
    "                     ]})\n",
    "result_df = results.sort_values(by='Accuracy_score', ascending=False)\n",
    "result_df = result_df.reset_index(drop=True)\n",
    "result_df.head()"
   ]
  },
  {
   "cell_type": "code",
   "execution_count": 78,
   "metadata": {},
   "outputs": [
    {
     "data": {
      "image/png": "[encoded data removed]",
      "text/plain": [
       "<Figure size 864x576 with 1 Axes>"
      ]
     },
     "metadata": {
      "needs_background": "light"
     },
     "output_type": "display_data"
    }
   ],
   "source": [
    "plt.subplots(figsize=(12,8))\n",
    "ax=sns.barplot(x='Model',y=\"Accuracy_score\",data=result_df)\n",
    "labels = (result_df[\"Accuracy_score\"])\n",
    "# add result numbers on barchart\n",
    "for i, v in enumerate(labels):\n",
    "    ax.text(i, v+1, str(v), horizontalalignment = 'center', size = 15, color = 'black')"
   ]
  },
  {
   "cell_type": "markdown",
   "metadata": {},
   "source": [
    "Berdasarkan akurasi yang diperoleh model dengan algoritma naive bayes memberikan akurasi yang paling tinggi. Oleh karena itu model terbaik yang digunakan untuk mengklasifikasikan cuaca di Kabupaten Deli Serdang adalah model naive bayes dengan akurasi sebesar 71.43 persen. "
   ]
  },
  {
   "cell_type": "markdown",
   "metadata": {},
   "source": [
    "\n",
    "# BELUM DI RUN KARENA DI TEMPAT AKU NGGA BISA INSTALL IMBLEARN"
   ]
  },
  {
   "cell_type": "code",
   "execution_count": 81,
   "metadata": {},
   "outputs": [
    {
     "name": "stdout",
     "output_type": "stream",
     "text": [
      "Collecting imbalanced-learn\n",
      "  Using cached imbalanced_learn-0.8.1-py3-none-any.whl (189 kB)\n",
      "Requirement already satisfied: scipy>=0.19.1 in c:\\users\\lenovo\\.conda\\envs\\tensorflow\\lib\\site-packages (from imbalanced-learn) (1.7.1)\n",
      "Requirement already satisfied: numpy>=1.13.3 in c:\\users\\lenovo\\.conda\\envs\\tensorflow\\lib\\site-packages (from imbalanced-learn) (1.21.2)\n",
      "Requirement already satisfied: scikit-learn>=0.24 in c:\\users\\lenovo\\.conda\\envs\\tensorflow\\lib\\site-packages (from imbalanced-learn) (1.0.1)\n",
      "Requirement already satisfied: joblib>=0.11 in c:\\users\\lenovo\\.conda\\envs\\tensorflow\\lib\\site-packages (from imbalanced-learn) (1.1.0)\n",
      "Requirement already satisfied: threadpoolctl>=2.0.0 in c:\\users\\lenovo\\.conda\\envs\\tensorflow\\lib\\site-packages (from scikit-learn>=0.24->imbalanced-learn) (3.0.0)\n",
      "Installing collected packages: imbalanced-learn\n",
      "Successfully installed imbalanced-learn-0.8.1\n"
     ]
    }
   ],
   "source": [
    "#!pip install -U imbalanced-learn"
   ]
  },
  {
   "cell_type": "code",
   "execution_count": 101,
   "metadata": {},
   "outputs": [
    {
     "data": {
      "text/plain": [
       "array([[32.4, 27.6, 84. ,  3.7,  4. ],\n",
       "       [35.2, 28.3, 82. ,  5. ,  4. ],\n",
       "       [30.2, 26.2, 88. ,  6.2,  4. ],\n",
       "       [31.6, 27.5, 79. ,  0.7,  5. ],\n",
       "       [33.6, 27.6, 78. ,  9.2,  6. ],\n",
       "       [34. , 27.6, 82. ,  1. ,  4. ],\n",
       "       [31.8, 26.9, 86. ,  0. ,  4. ],\n",
       "       [35.2, 28.2, 76. ,  6.6,  5. ],\n",
       "       [32.6, 28. , 84. ,  5. ,  4. ],\n",
       "       [33. , 27.8, 82. ,  5.7,  4. ],\n",
       "       [31.2, 27.4, 87. ,  8.6,  4. ],\n",
       "       [31.4, 27.8, 76. ,  7.3,  6. ],\n",
       "       [30.8, 25.8, 89. ,  9.6,  3. ],\n",
       "       [34. , 28.2, 80. ,  9.7,  6. ]])"
      ]
     },
     "execution_count": 101,
     "metadata": {},
     "output_type": "execute_result"
    }
   ],
   "source": [
    "X_train"
   ]
  },
  {
   "cell_type": "code",
   "execution_count": 107,
   "metadata": {},
   "outputs": [
    {
     "ename": "ValueError",
     "evalue": "Expected n_neighbors <= n_samples,  but n_samples = 5, n_neighbors = 6",
     "output_type": "error",
     "traceback": [
      "\u001b[1;31m---------------------------------------------------------------------------\u001b[0m",
      "\u001b[1;31mValueError\u001b[0m                                Traceback (most recent call last)",
      "\u001b[1;32m~\\AppData\\Local\\Temp/ipykernel_9104/1924646700.py\u001b[0m in \u001b[0;36m<module>\u001b[1;34m\u001b[0m\n\u001b[0;32m      4\u001b[0m \u001b[0mX_train\u001b[0m\u001b[1;33m,\u001b[0m \u001b[0mX_test\u001b[0m\u001b[1;33m,\u001b[0m \u001b[0my_train\u001b[0m\u001b[1;33m,\u001b[0m \u001b[0my_test\u001b[0m \u001b[1;33m=\u001b[0m \u001b[0mtrain_test_split\u001b[0m\u001b[1;33m(\u001b[0m\u001b[0mX\u001b[0m\u001b[1;33m,\u001b[0m \u001b[0my\u001b[0m\u001b[1;33m,\u001b[0m \u001b[0mtest_size\u001b[0m\u001b[1;33m=\u001b[0m\u001b[1;36m0.3\u001b[0m\u001b[1;33m,\u001b[0m \u001b[0mrandom_state\u001b[0m\u001b[1;33m=\u001b[0m\u001b[1;36m0\u001b[0m\u001b[1;33m)\u001b[0m\u001b[1;33m\u001b[0m\u001b[1;33m\u001b[0m\u001b[0m\n\u001b[0;32m      5\u001b[0m \u001b[0msm\u001b[0m \u001b[1;33m=\u001b[0m \u001b[0mSMOTE\u001b[0m\u001b[1;33m(\u001b[0m\u001b[0mrandom_state\u001b[0m\u001b[1;33m=\u001b[0m\u001b[1;36m2\u001b[0m\u001b[1;33m)\u001b[0m\u001b[1;33m\u001b[0m\u001b[1;33m\u001b[0m\u001b[0m\n\u001b[1;32m----> 6\u001b[1;33m \u001b[0mX_train_res\u001b[0m\u001b[1;33m,\u001b[0m \u001b[0my_train_res\u001b[0m \u001b[1;33m=\u001b[0m \u001b[0msm\u001b[0m\u001b[1;33m.\u001b[0m\u001b[0mfit_resample\u001b[0m\u001b[1;33m(\u001b[0m\u001b[0mX_train\u001b[0m\u001b[1;33m,\u001b[0m \u001b[0my_train\u001b[0m\u001b[1;33m.\u001b[0m\u001b[0mravel\u001b[0m\u001b[1;33m(\u001b[0m\u001b[1;33m)\u001b[0m\u001b[1;33m)\u001b[0m\u001b[1;33m\u001b[0m\u001b[1;33m\u001b[0m\u001b[0m\n\u001b[0m\u001b[0;32m      7\u001b[0m \u001b[0mclf_rf\u001b[0m \u001b[1;33m=\u001b[0m \u001b[0mRandomForestClassifier\u001b[0m\u001b[1;33m(\u001b[0m\u001b[0mn_estimators\u001b[0m\u001b[1;33m=\u001b[0m\u001b[1;36m25\u001b[0m\u001b[1;33m,\u001b[0m \u001b[0mrandom_state\u001b[0m\u001b[1;33m=\u001b[0m\u001b[1;36m12\u001b[0m\u001b[1;33m)\u001b[0m\u001b[1;33m\u001b[0m\u001b[1;33m\u001b[0m\u001b[0m\n\u001b[0;32m      8\u001b[0m \u001b[0mclf_rf\u001b[0m\u001b[1;33m.\u001b[0m\u001b[0mfit\u001b[0m\u001b[1;33m(\u001b[0m\u001b[0mx_train_res\u001b[0m\u001b[1;33m,\u001b[0m \u001b[0my_train_res\u001b[0m\u001b[1;33m)\u001b[0m\u001b[1;33m\u001b[0m\u001b[1;33m\u001b[0m\u001b[0m\n",
      "\u001b[1;32m~\\.conda\\envs\\tensorflow\\lib\\site-packages\\imblearn\\base.py\u001b[0m in \u001b[0;36mfit_resample\u001b[1;34m(self, X, y)\u001b[0m\n\u001b[0;32m     81\u001b[0m         )\n\u001b[0;32m     82\u001b[0m \u001b[1;33m\u001b[0m\u001b[0m\n\u001b[1;32m---> 83\u001b[1;33m         \u001b[0moutput\u001b[0m \u001b[1;33m=\u001b[0m \u001b[0mself\u001b[0m\u001b[1;33m.\u001b[0m\u001b[0m_fit_resample\u001b[0m\u001b[1;33m(\u001b[0m\u001b[0mX\u001b[0m\u001b[1;33m,\u001b[0m \u001b[0my\u001b[0m\u001b[1;33m)\u001b[0m\u001b[1;33m\u001b[0m\u001b[1;33m\u001b[0m\u001b[0m\n\u001b[0m\u001b[0;32m     84\u001b[0m \u001b[1;33m\u001b[0m\u001b[0m\n\u001b[0;32m     85\u001b[0m         y_ = (\n",
      "\u001b[1;32m~\\.conda\\envs\\tensorflow\\lib\\site-packages\\imblearn\\over_sampling\\_smote\\base.py\u001b[0m in \u001b[0;36m_fit_resample\u001b[1;34m(self, X, y)\u001b[0m\n\u001b[0;32m    307\u001b[0m \u001b[1;33m\u001b[0m\u001b[0m\n\u001b[0;32m    308\u001b[0m             \u001b[0mself\u001b[0m\u001b[1;33m.\u001b[0m\u001b[0mnn_k_\u001b[0m\u001b[1;33m.\u001b[0m\u001b[0mfit\u001b[0m\u001b[1;33m(\u001b[0m\u001b[0mX_class\u001b[0m\u001b[1;33m)\u001b[0m\u001b[1;33m\u001b[0m\u001b[1;33m\u001b[0m\u001b[0m\n\u001b[1;32m--> 309\u001b[1;33m             \u001b[0mnns\u001b[0m \u001b[1;33m=\u001b[0m \u001b[0mself\u001b[0m\u001b[1;33m.\u001b[0m\u001b[0mnn_k_\u001b[0m\u001b[1;33m.\u001b[0m\u001b[0mkneighbors\u001b[0m\u001b[1;33m(\u001b[0m\u001b[0mX_class\u001b[0m\u001b[1;33m,\u001b[0m \u001b[0mreturn_distance\u001b[0m\u001b[1;33m=\u001b[0m\u001b[1;32mFalse\u001b[0m\u001b[1;33m)\u001b[0m\u001b[1;33m[\u001b[0m\u001b[1;33m:\u001b[0m\u001b[1;33m,\u001b[0m \u001b[1;36m1\u001b[0m\u001b[1;33m:\u001b[0m\u001b[1;33m]\u001b[0m\u001b[1;33m\u001b[0m\u001b[1;33m\u001b[0m\u001b[0m\n\u001b[0m\u001b[0;32m    310\u001b[0m             X_new, y_new = self._make_samples(\n\u001b[0;32m    311\u001b[0m                 \u001b[0mX_class\u001b[0m\u001b[1;33m,\u001b[0m \u001b[0my\u001b[0m\u001b[1;33m.\u001b[0m\u001b[0mdtype\u001b[0m\u001b[1;33m,\u001b[0m \u001b[0mclass_sample\u001b[0m\u001b[1;33m,\u001b[0m \u001b[0mX_class\u001b[0m\u001b[1;33m,\u001b[0m \u001b[0mnns\u001b[0m\u001b[1;33m,\u001b[0m \u001b[0mn_samples\u001b[0m\u001b[1;33m,\u001b[0m \u001b[1;36m1.0\u001b[0m\u001b[1;33m\u001b[0m\u001b[1;33m\u001b[0m\u001b[0m\n",
      "\u001b[1;32m~\\.conda\\envs\\tensorflow\\lib\\site-packages\\sklearn\\neighbors\\_base.py\u001b[0m in \u001b[0;36mkneighbors\u001b[1;34m(self, X, n_neighbors, return_distance)\u001b[0m\n\u001b[0;32m    722\u001b[0m         \u001b[0mn_samples_fit\u001b[0m \u001b[1;33m=\u001b[0m \u001b[0mself\u001b[0m\u001b[1;33m.\u001b[0m\u001b[0mn_samples_fit_\u001b[0m\u001b[1;33m\u001b[0m\u001b[1;33m\u001b[0m\u001b[0m\n\u001b[0;32m    723\u001b[0m         \u001b[1;32mif\u001b[0m \u001b[0mn_neighbors\u001b[0m \u001b[1;33m>\u001b[0m \u001b[0mn_samples_fit\u001b[0m\u001b[1;33m:\u001b[0m\u001b[1;33m\u001b[0m\u001b[1;33m\u001b[0m\u001b[0m\n\u001b[1;32m--> 724\u001b[1;33m             raise ValueError(\n\u001b[0m\u001b[0;32m    725\u001b[0m                 \u001b[1;34m\"Expected n_neighbors <= n_samples, \"\u001b[0m\u001b[1;33m\u001b[0m\u001b[1;33m\u001b[0m\u001b[0m\n\u001b[0;32m    726\u001b[0m                 \u001b[1;34m\" but n_samples = %d, n_neighbors = %d\"\u001b[0m \u001b[1;33m%\u001b[0m \u001b[1;33m(\u001b[0m\u001b[0mn_samples_fit\u001b[0m\u001b[1;33m,\u001b[0m \u001b[0mn_neighbors\u001b[0m\u001b[1;33m)\u001b[0m\u001b[1;33m\u001b[0m\u001b[1;33m\u001b[0m\u001b[0m\n",
      "\u001b[1;31mValueError\u001b[0m: Expected n_neighbors <= n_samples,  but n_samples = 5, n_neighbors = 6"
     ]
    }
   ],
   "source": [
    "from imblearn.over_sampling import SMOTE\n",
    "from sklearn.model_selection import train_test_split\n",
    "\n",
    "X_train, X_test, y_train, y_test = train_test_split(X, y, test_size=0.3, random_state=0)\n",
    "sm = SMOTE(random_state=2)\n",
    "X_train_res, y_train_res = sm.fit_resample(X_train, y_train.ravel())\n",
    "clf_rf = RandomForestClassifier(n_estimators=25, random_state=12)\n",
    "clf_rf.fit(x_train_res, y_train_res)"
   ]
  },
  {
   "cell_type": "code",
   "execution_count": 104,
   "metadata": {},
   "outputs": [
    {
     "ename": "AttributeError",
     "evalue": "'SMOTE' object has no attribute 'fit_sample'",
     "output_type": "error",
     "traceback": [
      "\u001b[1;31m---------------------------------------------------------------------------\u001b[0m",
      "\u001b[1;31mAttributeError\u001b[0m                            Traceback (most recent call last)",
      "\u001b[1;32m~\\AppData\\Local\\Temp/ipykernel_9104/3127196205.py\u001b[0m in \u001b[0;36m<module>\u001b[1;34m\u001b[0m\n\u001b[0;32m      4\u001b[0m \u001b[1;32mfrom\u001b[0m \u001b[0mimblearn\u001b[0m\u001b[1;33m.\u001b[0m\u001b[0mover_sampling\u001b[0m \u001b[1;32mimport\u001b[0m \u001b[0mSMOTE\u001b[0m\u001b[1;33m\u001b[0m\u001b[1;33m\u001b[0m\u001b[0m\n\u001b[0;32m      5\u001b[0m \u001b[0msm\u001b[0m \u001b[1;33m=\u001b[0m \u001b[0mSMOTE\u001b[0m\u001b[1;33m(\u001b[0m\u001b[1;33m)\u001b[0m\u001b[1;33m\u001b[0m\u001b[1;33m\u001b[0m\u001b[0m\n\u001b[1;32m----> 6\u001b[1;33m \u001b[0mX_train_res\u001b[0m\u001b[1;33m,\u001b[0m \u001b[0my_train_res\u001b[0m \u001b[1;33m=\u001b[0m \u001b[0msm\u001b[0m\u001b[1;33m.\u001b[0m\u001b[0mfit_sample\u001b[0m\u001b[1;33m(\u001b[0m\u001b[0mX_train\u001b[0m\u001b[1;33m,\u001b[0m \u001b[0my_train\u001b[0m\u001b[1;33m)\u001b[0m\u001b[1;33m\u001b[0m\u001b[1;33m\u001b[0m\u001b[0m\n\u001b[0m\u001b[0;32m      7\u001b[0m \u001b[1;33m\u001b[0m\u001b[0m\n\u001b[0;32m      8\u001b[0m \u001b[1;33m\u001b[0m\u001b[0m\n",
      "\u001b[1;31mAttributeError\u001b[0m: 'SMOTE' object has no attribute 'fit_sample'"
     ]
    }
   ],
   "source": [
    "# Over sampling data dengan algoritma SMOTE\n",
    "# import SMOTE module from imblearn library\n",
    "#import imbalanced-learn as imblearn\n",
    "from imblearn.over_sampling import SMOTE\n",
    "sm = SMOTE()\n",
    "X_train_res, y_train_res = sm.fit_sample(X_train, y_train)\n",
    "\n",
    "\n",
    "print('After OverSampling, the shape of train_X: {}'.format(X_train_res.shape))\n",
    "print('After OverSampling, the shape of train_y: {} \\n'.format(y_train_res.shape))"
   ]
  },
  {
   "cell_type": "code",
   "execution_count": 109,
   "metadata": {},
   "outputs": [
    {
     "name": "stdout",
     "output_type": "stream",
     "text": [
      "              precision    recall  f1-score   support\n",
      "\n",
      "          C        0.50      1.00      0.67         1\n",
      "          E        0.00      0.00      0.00         1\n",
      "          NE       0.80      0.80      0.80         5\n",
      "\n",
      "    accuracy                           0.71         7\n",
      "   macro avg       0.43      0.60      0.49         7\n",
      "weighted avg       0.64      0.71      0.67         7\n",
      "\n"
     ]
    }
   ],
   "source": [
    "# Membangun model dengan data yang sudah di oversampling \n",
    "gaussian = GaussianNB()\n",
    "gaussian.fit(X_train, y_train)\n",
    "Y_pred = gaussian.predict(X_test) \n",
    "\n",
    "print(classification_report(y_test, Y_pred))"
   ]
  },
  {
   "cell_type": "code",
   "execution_count": null,
   "metadata": {},
   "outputs": [],
   "source": []
  }
 ],
 "metadata": {
  "kernelspec": {
   "display_name": "Python 3 (ipykernel)",
   "language": "python",
   "name": "python3"
  },
  "language_info": {
   "codemirror_mode": {
    "name": "ipython",
    "version": 3
   },
   "file_extension": ".py",
   "mimetype": "text/x-python",
   "name": "python",
   "nbconvert_exporter": "python",
   "pygments_lexer": "ipython3",
   "version": "3.8.12"
  }
 },
 "nbformat": 4,
 "nbformat_minor": 4
}
